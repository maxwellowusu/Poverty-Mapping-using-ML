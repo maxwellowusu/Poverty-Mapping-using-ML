{
 "cells": [
  {
   "cell_type": "code",
   "execution_count": 1,
   "id": "7f57770f-0723-41c4-98c4-f90b4de492be",
   "metadata": {},
   "outputs": [],
   "source": [
    "import requests\n",
    "import json\n",
    "import pandas as pd\n",
    "import numpy as np\n",
    "\n",
    "import matplotlib.pyplot as plt\n",
    "import seaborn as sns\n",
    "sns.set_theme(style=\"darkgrid\")"
   ]
  },
  {
   "cell_type": "code",
   "execution_count": null,
   "id": "1708398d-332d-4c22-b4df-e025517e5ccc",
   "metadata": {},
   "outputs": [],
   "source": []
  },
  {
   "cell_type": "code",
   "execution_count": null,
   "id": "d9ef1e35-d755-4ea0-b77a-f5c3e8d7b743",
   "metadata": {},
   "outputs": [],
   "source": [
    "# load AOI\n",
    "with open(r/Data/AmaBoundary.geojson\") as inf:\n",
    "    regions_dict = json.load(inf)"
   ]
  }
 ],
 "metadata": {
  "kernelspec": {
   "display_name": "Python 3 (ipykernel)",
   "language": "python",
   "name": "python3"
  },
  "language_info": {
   "codemirror_mode": {
    "name": "ipython",
    "version": 3
   },
   "file_extension": ".py",
   "mimetype": "text/x-python",
   "name": "python",
   "nbconvert_exporter": "python",
   "pygments_lexer": "ipython3",
   "version": "3.7.11"
  }
 },
 "nbformat": 4,
 "nbformat_minor": 5
}
