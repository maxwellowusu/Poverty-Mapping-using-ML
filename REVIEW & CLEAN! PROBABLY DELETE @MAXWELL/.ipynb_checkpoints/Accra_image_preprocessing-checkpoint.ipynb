{
  "nbformat": 4,
  "nbformat_minor": 0,
  "metadata": {
    "colab": {
      "name": "Accra_image_preprocessing.ipynb",
      "provenance": []
    },
    "kernelspec": {
      "name": "python3",
      "display_name": "Python 3"
    },
    "language_info": {
      "name": "python"
    }
  },
  "cells": [
    {
      "cell_type": "markdown",
      "source": [
        "# **Download and preprocessed Sentinel-2 image**\n",
        "\n",
        "This code connects to google earth engine and download sentinel-2 image. \n",
        "\n",
        "It mask clouds and cloud shadows in Sentinenl-2 surface reflectance (SR) data using Earth Engine. It uses the Sentinel-2 cloud probability dataset (s2cloudless) and cloud shadows to identify clouds. Shadows are defined by cloud projection intersection with low-reflectance near-infrared (NIR) pixels. \n",
        "\n",
        "\n",
        "\n",
        "Follow [link](https://developers.google.com/earth-engine/tutorials/community/sentinel-2-s2cloudless) for details"
      ],
      "metadata": {
        "id": "eaIcLeowbqnu"
      }
    },
    {
      "cell_type": "markdown",
      "source": [
        "**Define collection filter and cloud mask parameters**\n",
        "\n",
        "Define parameters that are used to filter the S2 image collection and determine cloud and cloud shadow identification.\n",
        "\n",
        "|Parameter | Type | Description |\n",
        "| :-- | :-- | :-- |\n",
        "| `AOI` | `ee.Geometry` | Area of interest |\n",
        "| `START_DATE` | string | Image collection start date (inclusive) |\n",
        "| `END_DATE` | string | Image collection end date (exclusive) |\n",
        "| `CLOUD_FILTER` | integer | Maximum image cloud cover percent allowed in image collection |\n",
        "| `CLD_PRB_THRESH` | integer | Cloud probability (%); values greater than are considered cloud |\n",
        "| `NIR_DRK_THRESH` | float | Near-infrared reflectance; values less than are considered potential cloud shadow |\n",
        "| `CLD_PRJ_DIST` | float | Maximum distance (km) to search for cloud shadows from cloud edges |\n",
        "| `BUFFER` | integer | Distance (m) to dilate the edge of cloud-identified objects |"
      ],
      "metadata": {
        "id": "TpVF1T46dzpy"
      }
    },
    {
      "cell_type": "markdown",
      "source": [
        "**Initializing the Earth Engine API**"
      ],
      "metadata": {
        "id": "up7OTC0hczZM"
      }
    },
    {
      "cell_type": "code",
      "source": [
        "import ee\n",
        "\n",
        "# Trigger the authentication flow.\n",
        "ee.Authenticate()\n",
        "\n",
        "# Initialize the library.\n",
        "ee.Initialize()"
      ],
      "metadata": {
        "colab": {
          "base_uri": "https://localhost:8080/"
        },
        "id": "kaf0L4a3cx8k",
        "outputId": "464896df-a136-44c1-ac03-9de3ef7c840e"
      },
      "execution_count": 1,
      "outputs": [
        {
          "output_type": "stream",
          "name": "stdout",
          "text": [
            "To authorize access needed by Earth Engine, open the following URL in a web browser and follow the instructions. If the web browser does not start automatically, please manually browse the URL below.\n",
            "\n",
            "    https://accounts.google.com/o/oauth2/auth?client_id=517222506229-vsmmajv00ul0bs7p89v5m89qs8eb9359.apps.googleusercontent.com&scope=https%3A%2F%2Fwww.googleapis.com%2Fauth%2Fearthengine+https%3A%2F%2Fwww.googleapis.com%2Fauth%2Fdevstorage.full_control&redirect_uri=urn%3Aietf%3Awg%3Aoauth%3A2.0%3Aoob&response_type=code&code_challenge=ibUp_c8CVrNJS4xxlzppmaUZROEjf_EDmzexRh3dKzs&code_challenge_method=S256\n",
            "\n",
            "The authorization workflow will generate a code, which you should paste in the box below. \n",
            "Enter verification code: 4/1AX4XfWh3eeK4g3dW6oEUtv9TL0Nu6If3Tmf12gA6yqm4H9UejQzIZfggiHk\n",
            "\n",
            "Successfully saved authorization token.\n"
          ]
        }
      ]
    },
    {
      "cell_type": "code",
      "source": [
        ""
      ],
      "metadata": {
        "id": "F5Jcx2O0sV8-"
      },
      "execution_count": 1,
      "outputs": []
    },
    {
      "cell_type": "markdown",
      "source": [
        "**Upload Area of Interest (AOI) file**\n",
        "\n",
        "This can take Geojson or shapefile"
      ],
      "metadata": {
        "id": "HIYurX9Lc7xo"
      }
    },
    {
      "cell_type": "code",
      "source": [
        "import json\n",
        "from google.colab import drive\n",
        "import sys\n",
        "\n",
        "f = open('/content/drive/MyDrive/OS_programming/Data/AmaBoundary.geojson')\n",
        "shapefile = json.load(f)\n",
        "\n",
        "## get gjson features\n",
        "features = shapefile['features']\n",
        "\n",
        "## make Earth Engine FeatureCollection of features\n",
        "fc = ee.FeatureCollection(features)"
      ],
      "metadata": {
        "id": "ByZfVIZVboPh"
      },
      "execution_count": 2,
      "outputs": []
    },
    {
      "cell_type": "markdown",
      "source": [
        "**Define collection filter and cloud mask parameters**"
      ],
      "metadata": {
        "id": "si14efhLqz8I"
      }
    },
    {
      "cell_type": "code",
      "source": [
        "AOI = ee.Geometry.MultiPolygon(shapefile['features'][0][\"geometry\"]['coordinates'])\n",
        "# START_DATE = '2021-11-14'\n",
        "# END_DATE = '2021-12-23'\n",
        "START_DATE = '2021-03-01'\n",
        "END_DATE = '2021-06-01'\n",
        "# CLOUD_FILTER = 30\n",
        "# CLD_PRB_THRESH = 85\n",
        "# NIR_DRK_THRESH = 0.50\n",
        "# CLD_PRJ_DIST = 2\n",
        "# BUFFER = 65\n",
        "CLOUD_FILTER =30\n",
        "CLD_PRB_THRESH = 80\n",
        "NIR_DRK_THRESH = 0.80\n",
        "CLD_PRJ_DIST = 1\n",
        "BUFFER = 50"
      ],
      "metadata": {
        "id": "4k-VMiLkqqtw"
      },
      "execution_count": 3,
      "outputs": []
    },
    {
      "cell_type": "markdown",
      "source": [
        "**Build a Sentinel-2 collection**\n",
        "\n",
        "Sentinel-2 surface reflectance and Sentinel-2 cloud probability are two different image collections. Each collection must be filtered similarly (e.g., by date and bounds) and then the two filtered collections must be joined."
      ],
      "metadata": {
        "id": "vZVjlbIWha3c"
      }
    },
    {
      "cell_type": "code",
      "source": [
        "def get_s2_sr_cld_col(aoi, start_date, end_date):\n",
        "  # '''\n",
        "  # Collect SR and s2cloudless for the AOi and defien date parameters.\n",
        "  # Results: SR image corresponding to s2cloudless image\n",
        "  # '''\n",
        "    # Import and filter S2 SR.\n",
        "    s2_sr_col = (ee.ImageCollection('COPERNICUS/S2_SR')\n",
        "        .filterBounds(aoi)\n",
        "        .filterDate(start_date, end_date)\n",
        "        .filter(ee.Filter.lte('CLOUDY_PIXEL_PERCENTAGE', CLOUD_FILTER)))\n",
        "\n",
        "    # Import and filter s2cloudless.\n",
        "    s2_cloudless_col = (ee.ImageCollection('COPERNICUS/S2_CLOUD_PROBABILITY')\n",
        "        .filterBounds(aoi)\n",
        "        .filterDate(start_date, end_date))\n",
        "\n",
        "    # Join the filtered s2cloudless collection to the SR collection by the 'system:index' property.\n",
        "    return ee.ImageCollection(ee.Join.saveFirst('s2cloudless').apply(**{\n",
        "        'primary': s2_sr_col,\n",
        "        'secondary': s2_cloudless_col,\n",
        "        'condition': ee.Filter.equals(**{\n",
        "            'leftField': 'system:index',\n",
        "            'rightField': 'system:index'\n",
        "        })\n",
        "    }))"
      ],
      "metadata": {
        "id": "fOA9v6wDhs5m"
      },
      "execution_count": 4,
      "outputs": []
    },
    {
      "cell_type": "markdown",
      "source": [
        "Applying the get_s2_sr_cld_col function to build a collection according to the parameters defined above."
      ],
      "metadata": {
        "id": "gLEqDug1i6aL"
      }
    },
    {
      "cell_type": "code",
      "source": [
        "s2_sr_cld_col_eval = get_s2_sr_cld_col(AOI, START_DATE, END_DATE)"
      ],
      "metadata": {
        "id": "BlixouvWi1QZ"
      },
      "execution_count": 5,
      "outputs": []
    },
    {
      "cell_type": "markdown",
      "source": [
        "**Define cloud mask component functions**\n"
      ],
      "metadata": {
        "id": "3Kh-y2lLjEvU"
      }
    },
    {
      "cell_type": "code",
      "source": [
        "# Cloud components\n",
        "def add_cloud_bands(img):\n",
        "  # '''\n",
        "  # A function to add the s2cloudless probability layer and derived cloud mask as bands to an S2 SR image input\n",
        "  # '''\n",
        "    # Get s2cloudless image, subset the probability band.\n",
        "    cld_prb = ee.Image(img.get('s2cloudless')).select('probability')\n",
        "\n",
        "    # Condition s2cloudless by the probability threshold value.\n",
        "    is_cloud = cld_prb.gt(CLD_PRB_THRESH).rename('clouds')\n",
        "\n",
        "    # Add the cloud probability layer and cloud mask as image bands.\n",
        "    return img.addBands(ee.Image([cld_prb, is_cloud]))"
      ],
      "metadata": {
        "id": "f4FqrnUsjDrp"
      },
      "execution_count": 6,
      "outputs": []
    },
    {
      "cell_type": "markdown",
      "source": [
        "**Cloud shadow components**"
      ],
      "metadata": {
        "id": "ayH2SA4Kjiyf"
      }
    },
    {
      "cell_type": "code",
      "source": [
        "def add_shadow_bands(img):\n",
        "  # '''\n",
        "  # a function to add dark pixels, cloud projection, and identified shadows as bands to an S2 SR image input\n",
        "  # '''\n",
        "    # Identify water pixels from the SCL band.\n",
        "    not_water = img.select('SCL').neq(6)\n",
        "\n",
        "    # Identify dark NIR pixels that are not water (potential cloud shadow pixels).\n",
        "    SR_BAND_SCALE = 1e4\n",
        "    dark_pixels = img.select('B8').lt(NIR_DRK_THRESH*SR_BAND_SCALE).multiply(not_water).rename('dark_pixels')\n",
        "\n",
        "    # Determine the direction to project cloud shadow from clouds (assumes UTM projection).\n",
        "    shadow_azimuth = ee.Number(90).subtract(ee.Number(img.get('MEAN_SOLAR_AZIMUTH_ANGLE')));\n",
        "\n",
        "    # Project shadows from clouds for the distance specified by the CLD_PRJ_DIST input.\n",
        "    cld_proj = (img.select('clouds').directionalDistanceTransform(shadow_azimuth, CLD_PRJ_DIST*10)\n",
        "        .reproject(**{'crs': img.select(0).projection(), 'scale': 100})\n",
        "        .select('distance')\n",
        "        .mask()\n",
        "        .rename('cloud_transform'))\n",
        "\n",
        "    # Identify the intersection of dark pixels with cloud shadow projection.\n",
        "    shadows = cld_proj.multiply(dark_pixels).rename('shadows')\n",
        "\n",
        "    # Add dark pixels, cloud projection, and identified shadows as image bands.\n",
        "    return img.addBands(ee.Image([dark_pixels, cld_proj, shadows]))"
      ],
      "metadata": {
        "id": "4PSk73kRjn4u"
      },
      "execution_count": 7,
      "outputs": []
    },
    {
      "cell_type": "markdown",
      "source": [
        "**Final cloud-shadow mask**"
      ],
      "metadata": {
        "id": "B9-M698Nj2w8"
      }
    },
    {
      "cell_type": "code",
      "source": [
        "def add_cld_shdw_mask(img):\n",
        "  # '''\n",
        "  # a function to assemble all of the cloud and cloud shadow components and produce the final mask.\n",
        "  # '''\n",
        "    # Add cloud component bands.\n",
        "    img_cloud = add_cloud_bands(img)\n",
        "\n",
        "    # Add cloud shadow component bands.\n",
        "    img_cloud_shadow = add_shadow_bands(img_cloud)\n",
        "\n",
        "    # Combine cloud and shadow mask, set cloud and shadow as value 1, else 0.\n",
        "    is_cld_shdw = img_cloud_shadow.select('clouds').add(img_cloud_shadow.select('shadows')).gt(0)\n",
        "\n",
        "    # Remove small cloud-shadow patches and dilate remaining pixels by BUFFER input.\n",
        "    # 20 m scale is for speed, and assumes clouds don't require 10 m precision.\n",
        "    is_cld_shdw = (is_cld_shdw.focalMin(2).focalMax(BUFFER*2/20)\n",
        "        .reproject(**{'crs': img.select([0]).projection(), 'scale': 20})\n",
        "        .rename('cloudmask'))\n",
        "\n",
        "    # Add the final cloud-shadow mask to the image.\n",
        "    return img_cloud_shadow.addBands(is_cld_shdw)"
      ],
      "metadata": {
        "id": "ot6Ksp8qj5j8"
      },
      "execution_count": 8,
      "outputs": []
    },
    {
      "cell_type": "markdown",
      "source": [
        "**Visualize and evaluate cloud mask components**\n",
        "\n",
        "This section provides functions for displaying the cloud and cloud shadow components. In most cases, adding all components to images and viewing them is unnecessary. This section is included to illustrate how the cloud/cloud shadow mask is developed and demonstrate how to test and evaluate various parameters, which is helpful when defining masking variables for an unfamiliar region or time of year."
      ],
      "metadata": {
        "id": "477jp8KhkDQX"
      }
    },
    {
      "cell_type": "markdown",
      "source": [
        "**Functions to display image and mask component layers**\n",
        "\n",
        "Folium will be used to display map layers."
      ],
      "metadata": {
        "id": "OanCLyjmkXur"
      }
    },
    {
      "cell_type": "code",
      "source": [
        "# Import the folium library.\n",
        "import folium\n",
        "\n",
        "# Define a method for displaying Earth Engine image tiles to a folium map.\n",
        "def add_ee_layer(self, ee_image_object, vis_params, name, show=True, opacity=1, min_zoom=0):\n",
        "  # '''\n",
        "  # A function for displaying Earh Engine Image tiles to a folium map\n",
        "  # '''\n",
        "    map_id_dict = ee.Image(ee_image_object).getMapId(vis_params)\n",
        "    folium.raster_layers.TileLayer(\n",
        "        tiles=map_id_dict['tile_fetcher'].url_format,\n",
        "        attr='Map Data &copy; <a href=\"https://earthengine.google.com/\">Google Earth Engine</a>',\n",
        "        name=name,\n",
        "        show=show,\n",
        "        opacity=opacity,\n",
        "        min_zoom=min_zoom,\n",
        "        overlay=True,\n",
        "        control=True\n",
        "        ).add_to(self)\n",
        "\n",
        "# Add the Earth Engine layer method to folium.\n",
        "folium.Map.add_ee_layer = add_ee_layer"
      ],
      "metadata": {
        "id": "UyMq0-dVklX3"
      },
      "execution_count": 9,
      "outputs": []
    },
    {
      "cell_type": "markdown",
      "source": [
        "A function to display all of the cloud and cloud shadow components to an interactive Folium map. The input is an image collection where each image is the result of the add_cld_shdw_mask function defined previously."
      ],
      "metadata": {
        "id": "9iqb4tZolWyC"
      }
    },
    {
      "cell_type": "code",
      "source": [
        "def display_cloud_layers(col):\n",
        "  # '''\n",
        "  # a function to display all of the cloud and cloud shadow components to an interactive Folium map\n",
        "  # '''\n",
        "    # Mosaic the image collection.\n",
        "    img = col.mosaic()\n",
        "\n",
        "    # Subset layers and prepare them for display.\n",
        "    clouds = img.select('clouds').selfMask()\n",
        "    shadows = img.select('shadows').selfMask()\n",
        "    dark_pixels = img.select('dark_pixels').selfMask()\n",
        "    probability = img.select('probability')\n",
        "    cloudmask = img.select('cloudmask').selfMask()\n",
        "    cloud_transform = img.select('cloud_transform')\n",
        "\n",
        "    # Create a folium map object.\n",
        "    center = AOI.centroid(10).coordinates().reverse().getInfo()\n",
        "    m = folium.Map(location=center, zoom_start=12)\n",
        "\n",
        "    # Add layers to the folium map.\n",
        "    m.add_ee_layer(img,\n",
        "                   {'bands': ['B4', 'B3', 'B2'], 'min': 0, 'max': 2500, 'gamma': 1.1},\n",
        "                   'S2 image', True, 1, 9)\n",
        "    m.add_ee_layer(probability,\n",
        "                   {'min': 0, 'max': 100},\n",
        "                   'probability (cloud)', False, 1, 9)\n",
        "    m.add_ee_layer(clouds,\n",
        "                   {'palette': 'e056fd'},\n",
        "                   'clouds', False, 1, 9)\n",
        "    m.add_ee_layer(cloud_transform,\n",
        "                   {'min': 0, 'max': 1, 'palette': ['white', 'black']},\n",
        "                   'cloud_transform', False, 1, 9)\n",
        "    m.add_ee_layer(dark_pixels,\n",
        "                   {'palette': 'orange'},\n",
        "                   'dark_pixels', False, 1, 9)\n",
        "    m.add_ee_layer(shadows, {'palette': 'yellow'},\n",
        "                   'shadows', False, 1, 9)\n",
        "    m.add_ee_layer(cloudmask, {'palette': 'orange'},\n",
        "                   'cloudmask', True, 0.5, 9)\n",
        "\n",
        "    # Add a layer control panel to the map.\n",
        "    m.add_child(folium.LayerControl())\n",
        "\n",
        "    # Display the map.\n",
        "    display(m)"
      ],
      "metadata": {
        "id": "5e3S38Wvlfr7"
      },
      "execution_count": 10,
      "outputs": []
    },
    {
      "cell_type": "markdown",
      "source": [
        "**Display mask component layers**"
      ],
      "metadata": {
        "id": "GETykB9Yl43Q"
      }
    },
    {
      "cell_type": "code",
      "source": [
        "s2_sr_cld_col_eval_disp = s2_sr_cld_col_eval.map(add_cld_shdw_mask)\n",
        "\n",
        "display_cloud_layers(s2_sr_cld_col_eval_disp)"
      ],
      "metadata": {
        "colab": {
          "base_uri": "https://localhost:8080/",
          "height": 718
        },
        "id": "bhlOipYPmEzV",
        "outputId": "a2b0a109-7d89-4564-a2b1-3882becaf9d6"
      },
      "execution_count": 11,
      "outputs": [
        {
          "output_type": "display_data",
          "data": {
            "text/html": [
              "<div style=\"width:100%;\"><div style=\"position:relative;width:100%;height:0;padding-bottom:60%;\"><span style=\"color:#565656\">Make this Notebook Trusted to load map: File -> Trust Notebook</span><iframe src=\"about:blank\" style=\"position:absolute;width:100%;height:100%;left:0;top:0;border:none !important;\" data-html=%3C%21DOCTYPE%20html%3E%0A%3Chead%3E%20%20%20%20%0A%20%20%20%20%3Cmeta%20http-equiv%3D%22content-type%22%20content%3D%22text/html%3B%20charset%3DUTF-8%22%20/%3E%0A%20%20%20%20%3Cscript%3EL_PREFER_CANVAS%3Dfalse%3B%20L_NO_TOUCH%3Dfalse%3B%20L_DISABLE_3D%3Dfalse%3B%3C/script%3E%0A%20%20%20%20%3Cscript%20src%3D%22https%3A//cdn.jsdelivr.net/npm/leaflet%401.4.0/dist/leaflet.js%22%3E%3C/script%3E%0A%20%20%20%20%3Cscript%20src%3D%22https%3A//code.jquery.com/jquery-1.12.4.min.js%22%3E%3C/script%3E%0A%20%20%20%20%3Cscript%20src%3D%22https%3A//maxcdn.bootstrapcdn.com/bootstrap/3.2.0/js/bootstrap.min.js%22%3E%3C/script%3E%0A%20%20%20%20%3Cscript%20src%3D%22https%3A//cdnjs.cloudflare.com/ajax/libs/Leaflet.awesome-markers/2.0.2/leaflet.awesome-markers.js%22%3E%3C/script%3E%0A%20%20%20%20%3Clink%20rel%3D%22stylesheet%22%20href%3D%22https%3A//cdn.jsdelivr.net/npm/leaflet%401.4.0/dist/leaflet.css%22/%3E%0A%20%20%20%20%3Clink%20rel%3D%22stylesheet%22%20href%3D%22https%3A//maxcdn.bootstrapcdn.com/bootstrap/3.2.0/css/bootstrap.min.css%22/%3E%0A%20%20%20%20%3Clink%20rel%3D%22stylesheet%22%20href%3D%22https%3A//maxcdn.bootstrapcdn.com/bootstrap/3.2.0/css/bootstrap-theme.min.css%22/%3E%0A%20%20%20%20%3Clink%20rel%3D%22stylesheet%22%20href%3D%22https%3A//maxcdn.bootstrapcdn.com/font-awesome/4.6.3/css/font-awesome.min.css%22/%3E%0A%20%20%20%20%3Clink%20rel%3D%22stylesheet%22%20href%3D%22https%3A//cdnjs.cloudflare.com/ajax/libs/Leaflet.awesome-markers/2.0.2/leaflet.awesome-markers.css%22/%3E%0A%20%20%20%20%3Clink%20rel%3D%22stylesheet%22%20href%3D%22https%3A//rawcdn.githack.com/python-visualization/folium/master/folium/templates/leaflet.awesome.rotate.css%22/%3E%0A%20%20%20%20%3Cstyle%3Ehtml%2C%20body%20%7Bwidth%3A%20100%25%3Bheight%3A%20100%25%3Bmargin%3A%200%3Bpadding%3A%200%3B%7D%3C/style%3E%0A%20%20%20%20%3Cstyle%3E%23map%20%7Bposition%3Aabsolute%3Btop%3A0%3Bbottom%3A0%3Bright%3A0%3Bleft%3A0%3B%7D%3C/style%3E%0A%20%20%20%20%0A%20%20%20%20%3Cmeta%20name%3D%22viewport%22%20content%3D%22width%3Ddevice-width%2C%0A%20%20%20%20%20%20%20%20initial-scale%3D1.0%2C%20maximum-scale%3D1.0%2C%20user-scalable%3Dno%22%20/%3E%0A%20%20%20%20%3Cstyle%3E%23map_4dae9451f5de4ce6a802427e13757fc2%20%7B%0A%20%20%20%20%20%20%20%20position%3A%20relative%3B%0A%20%20%20%20%20%20%20%20width%3A%20100.0%25%3B%0A%20%20%20%20%20%20%20%20height%3A%20100.0%25%3B%0A%20%20%20%20%20%20%20%20left%3A%200.0%25%3B%0A%20%20%20%20%20%20%20%20top%3A%200.0%25%3B%0A%20%20%20%20%20%20%20%20%7D%0A%20%20%20%20%3C/style%3E%0A%3C/head%3E%0A%3Cbody%3E%20%20%20%20%0A%20%20%20%20%0A%20%20%20%20%3Cdiv%20class%3D%22folium-map%22%20id%3D%22map_4dae9451f5de4ce6a802427e13757fc2%22%20%3E%3C/div%3E%0A%3C/body%3E%0A%3Cscript%3E%20%20%20%20%0A%20%20%20%20%0A%20%20%20%20%0A%20%20%20%20%20%20%20%20var%20bounds%20%3D%20null%3B%0A%20%20%20%20%0A%0A%20%20%20%20var%20map_4dae9451f5de4ce6a802427e13757fc2%20%3D%20L.map%28%0A%20%20%20%20%20%20%20%20%27map_4dae9451f5de4ce6a802427e13757fc2%27%2C%20%7B%0A%20%20%20%20%20%20%20%20center%3A%20%5B5.589975326161692%2C%20-0.21928456157992826%5D%2C%0A%20%20%20%20%20%20%20%20zoom%3A%2012%2C%0A%20%20%20%20%20%20%20%20maxBounds%3A%20bounds%2C%0A%20%20%20%20%20%20%20%20layers%3A%20%5B%5D%2C%0A%20%20%20%20%20%20%20%20worldCopyJump%3A%20false%2C%0A%20%20%20%20%20%20%20%20crs%3A%20L.CRS.EPSG3857%2C%0A%20%20%20%20%20%20%20%20zoomControl%3A%20true%2C%0A%20%20%20%20%20%20%20%20%7D%29%3B%0A%0A%0A%20%20%20%20%0A%20%20%20%20var%20tile_layer_1545daad6282457eb9c4f5931db0b48a%20%3D%20L.tileLayer%28%0A%20%20%20%20%20%20%20%20%27https%3A//%7Bs%7D.tile.openstreetmap.org/%7Bz%7D/%7Bx%7D/%7By%7D.png%27%2C%0A%20%20%20%20%20%20%20%20%7B%0A%20%20%20%20%20%20%20%20%22attribution%22%3A%20null%2C%0A%20%20%20%20%20%20%20%20%22detectRetina%22%3A%20false%2C%0A%20%20%20%20%20%20%20%20%22maxNativeZoom%22%3A%2018%2C%0A%20%20%20%20%20%20%20%20%22maxZoom%22%3A%2018%2C%0A%20%20%20%20%20%20%20%20%22minZoom%22%3A%200%2C%0A%20%20%20%20%20%20%20%20%22noWrap%22%3A%20false%2C%0A%20%20%20%20%20%20%20%20%22opacity%22%3A%201%2C%0A%20%20%20%20%20%20%20%20%22subdomains%22%3A%20%22abc%22%2C%0A%20%20%20%20%20%20%20%20%22tms%22%3A%20false%0A%7D%29.addTo%28map_4dae9451f5de4ce6a802427e13757fc2%29%3B%0A%20%20%20%20var%20tile_layer_40cf00c990694b6fb6f37bde05214dfa%20%3D%20L.tileLayer%28%0A%20%20%20%20%20%20%20%20%27https%3A//earthengine.googleapis.com/v1alpha/projects/earthengine-legacy/maps/dbafd6de972522fae95816cc2d9ce3de-5e1c8d7318fb9d9c5cc7e9d37fd0858c/tiles/%7Bz%7D/%7Bx%7D/%7By%7D%27%2C%0A%20%20%20%20%20%20%20%20%7B%0A%20%20%20%20%20%20%20%20%22attribution%22%3A%20%22Map%20Data%20%26copy%3B%20%3Ca%20href%3D%5C%22https%3A//earthengine.google.com/%5C%22%3EGoogle%20Earth%20Engine%3C/a%3E%22%2C%0A%20%20%20%20%20%20%20%20%22detectRetina%22%3A%20false%2C%0A%20%20%20%20%20%20%20%20%22maxNativeZoom%22%3A%2018%2C%0A%20%20%20%20%20%20%20%20%22maxZoom%22%3A%2018%2C%0A%20%20%20%20%20%20%20%20%22minZoom%22%3A%209%2C%0A%20%20%20%20%20%20%20%20%22noWrap%22%3A%20false%2C%0A%20%20%20%20%20%20%20%20%22opacity%22%3A%201%2C%0A%20%20%20%20%20%20%20%20%22subdomains%22%3A%20%22abc%22%2C%0A%20%20%20%20%20%20%20%20%22tms%22%3A%20false%0A%7D%29.addTo%28map_4dae9451f5de4ce6a802427e13757fc2%29%3B%0A%20%20%20%20var%20tile_layer_218103113e0b45fa922f1d6b8301a922%20%3D%20L.tileLayer%28%0A%20%20%20%20%20%20%20%20%27https%3A//earthengine.googleapis.com/v1alpha/projects/earthengine-legacy/maps/4b437113a9edee88db6c3687c39cf9d2-8c624fc2bad422bf9b3c620c94f37938/tiles/%7Bz%7D/%7Bx%7D/%7By%7D%27%2C%0A%20%20%20%20%20%20%20%20%7B%0A%20%20%20%20%20%20%20%20%22attribution%22%3A%20%22Map%20Data%20%26copy%3B%20%3Ca%20href%3D%5C%22https%3A//earthengine.google.com/%5C%22%3EGoogle%20Earth%20Engine%3C/a%3E%22%2C%0A%20%20%20%20%20%20%20%20%22detectRetina%22%3A%20false%2C%0A%20%20%20%20%20%20%20%20%22maxNativeZoom%22%3A%2018%2C%0A%20%20%20%20%20%20%20%20%22maxZoom%22%3A%2018%2C%0A%20%20%20%20%20%20%20%20%22minZoom%22%3A%209%2C%0A%20%20%20%20%20%20%20%20%22noWrap%22%3A%20false%2C%0A%20%20%20%20%20%20%20%20%22opacity%22%3A%201%2C%0A%20%20%20%20%20%20%20%20%22subdomains%22%3A%20%22abc%22%2C%0A%20%20%20%20%20%20%20%20%22tms%22%3A%20false%0A%7D%29.addTo%28map_4dae9451f5de4ce6a802427e13757fc2%29%3B%0A%20%20%20%20var%20tile_layer_079462c397e5459e8e92d14fb3eff01e%20%3D%20L.tileLayer%28%0A%20%20%20%20%20%20%20%20%27https%3A//earthengine.googleapis.com/v1alpha/projects/earthengine-legacy/maps/7a782506bd3b081f64d8a2b0a2700b18-c39b22b291b83b4e15d79deadbb8069d/tiles/%7Bz%7D/%7Bx%7D/%7By%7D%27%2C%0A%20%20%20%20%20%20%20%20%7B%0A%20%20%20%20%20%20%20%20%22attribution%22%3A%20%22Map%20Data%20%26copy%3B%20%3Ca%20href%3D%5C%22https%3A//earthengine.google.com/%5C%22%3EGoogle%20Earth%20Engine%3C/a%3E%22%2C%0A%20%20%20%20%20%20%20%20%22detectRetina%22%3A%20false%2C%0A%20%20%20%20%20%20%20%20%22maxNativeZoom%22%3A%2018%2C%0A%20%20%20%20%20%20%20%20%22maxZoom%22%3A%2018%2C%0A%20%20%20%20%20%20%20%20%22minZoom%22%3A%209%2C%0A%20%20%20%20%20%20%20%20%22noWrap%22%3A%20false%2C%0A%20%20%20%20%20%20%20%20%22opacity%22%3A%201%2C%0A%20%20%20%20%20%20%20%20%22subdomains%22%3A%20%22abc%22%2C%0A%20%20%20%20%20%20%20%20%22tms%22%3A%20false%0A%7D%29.addTo%28map_4dae9451f5de4ce6a802427e13757fc2%29%3B%0A%20%20%20%20var%20tile_layer_f814a444cc194031bb6b48c47cf57c3e%20%3D%20L.tileLayer%28%0A%20%20%20%20%20%20%20%20%27https%3A//earthengine.googleapis.com/v1alpha/projects/earthengine-legacy/maps/a023a13e3f2812f8894f9076646fe7b5-fa6a24b9a3a9496ddec3980520a922d5/tiles/%7Bz%7D/%7Bx%7D/%7By%7D%27%2C%0A%20%20%20%20%20%20%20%20%7B%0A%20%20%20%20%20%20%20%20%22attribution%22%3A%20%22Map%20Data%20%26copy%3B%20%3Ca%20href%3D%5C%22https%3A//earthengine.google.com/%5C%22%3EGoogle%20Earth%20Engine%3C/a%3E%22%2C%0A%20%20%20%20%20%20%20%20%22detectRetina%22%3A%20false%2C%0A%20%20%20%20%20%20%20%20%22maxNativeZoom%22%3A%2018%2C%0A%20%20%20%20%20%20%20%20%22maxZoom%22%3A%2018%2C%0A%20%20%20%20%20%20%20%20%22minZoom%22%3A%209%2C%0A%20%20%20%20%20%20%20%20%22noWrap%22%3A%20false%2C%0A%20%20%20%20%20%20%20%20%22opacity%22%3A%201%2C%0A%20%20%20%20%20%20%20%20%22subdomains%22%3A%20%22abc%22%2C%0A%20%20%20%20%20%20%20%20%22tms%22%3A%20false%0A%7D%29.addTo%28map_4dae9451f5de4ce6a802427e13757fc2%29%3B%0A%20%20%20%20var%20tile_layer_37c24a548d5b470e95f33b7da58ca184%20%3D%20L.tileLayer%28%0A%20%20%20%20%20%20%20%20%27https%3A//earthengine.googleapis.com/v1alpha/projects/earthengine-legacy/maps/8ecf7f2028ca786f9258fdd829e91764-c67927ab149b839a93e44e2eb306c614/tiles/%7Bz%7D/%7Bx%7D/%7By%7D%27%2C%0A%20%20%20%20%20%20%20%20%7B%0A%20%20%20%20%20%20%20%20%22attribution%22%3A%20%22Map%20Data%20%26copy%3B%20%3Ca%20href%3D%5C%22https%3A//earthengine.google.com/%5C%22%3EGoogle%20Earth%20Engine%3C/a%3E%22%2C%0A%20%20%20%20%20%20%20%20%22detectRetina%22%3A%20false%2C%0A%20%20%20%20%20%20%20%20%22maxNativeZoom%22%3A%2018%2C%0A%20%20%20%20%20%20%20%20%22maxZoom%22%3A%2018%2C%0A%20%20%20%20%20%20%20%20%22minZoom%22%3A%209%2C%0A%20%20%20%20%20%20%20%20%22noWrap%22%3A%20false%2C%0A%20%20%20%20%20%20%20%20%22opacity%22%3A%201%2C%0A%20%20%20%20%20%20%20%20%22subdomains%22%3A%20%22abc%22%2C%0A%20%20%20%20%20%20%20%20%22tms%22%3A%20false%0A%7D%29.addTo%28map_4dae9451f5de4ce6a802427e13757fc2%29%3B%0A%20%20%20%20var%20tile_layer_af0aee4d73ea4b7cb8a3d62f7f1cf875%20%3D%20L.tileLayer%28%0A%20%20%20%20%20%20%20%20%27https%3A//earthengine.googleapis.com/v1alpha/projects/earthengine-legacy/maps/0206d14438b2c053b62aa4a4cd355d86-e0453a187aeedce70926635e81d3fe1a/tiles/%7Bz%7D/%7Bx%7D/%7By%7D%27%2C%0A%20%20%20%20%20%20%20%20%7B%0A%20%20%20%20%20%20%20%20%22attribution%22%3A%20%22Map%20Data%20%26copy%3B%20%3Ca%20href%3D%5C%22https%3A//earthengine.google.com/%5C%22%3EGoogle%20Earth%20Engine%3C/a%3E%22%2C%0A%20%20%20%20%20%20%20%20%22detectRetina%22%3A%20false%2C%0A%20%20%20%20%20%20%20%20%22maxNativeZoom%22%3A%2018%2C%0A%20%20%20%20%20%20%20%20%22maxZoom%22%3A%2018%2C%0A%20%20%20%20%20%20%20%20%22minZoom%22%3A%209%2C%0A%20%20%20%20%20%20%20%20%22noWrap%22%3A%20false%2C%0A%20%20%20%20%20%20%20%20%22opacity%22%3A%201%2C%0A%20%20%20%20%20%20%20%20%22subdomains%22%3A%20%22abc%22%2C%0A%20%20%20%20%20%20%20%20%22tms%22%3A%20false%0A%7D%29.addTo%28map_4dae9451f5de4ce6a802427e13757fc2%29%3B%0A%20%20%20%20var%20tile_layer_4db7cbc6fe4c41b3b1669f275c8f05b1%20%3D%20L.tileLayer%28%0A%20%20%20%20%20%20%20%20%27https%3A//earthengine.googleapis.com/v1alpha/projects/earthengine-legacy/maps/a8def28646f97b1b1626174f9670eb61-8998f01c2b885841b4c84a19d7acb40e/tiles/%7Bz%7D/%7Bx%7D/%7By%7D%27%2C%0A%20%20%20%20%20%20%20%20%7B%0A%20%20%20%20%20%20%20%20%22attribution%22%3A%20%22Map%20Data%20%26copy%3B%20%3Ca%20href%3D%5C%22https%3A//earthengine.google.com/%5C%22%3EGoogle%20Earth%20Engine%3C/a%3E%22%2C%0A%20%20%20%20%20%20%20%20%22detectRetina%22%3A%20false%2C%0A%20%20%20%20%20%20%20%20%22maxNativeZoom%22%3A%2018%2C%0A%20%20%20%20%20%20%20%20%22maxZoom%22%3A%2018%2C%0A%20%20%20%20%20%20%20%20%22minZoom%22%3A%209%2C%0A%20%20%20%20%20%20%20%20%22noWrap%22%3A%20false%2C%0A%20%20%20%20%20%20%20%20%22opacity%22%3A%200.5%2C%0A%20%20%20%20%20%20%20%20%22subdomains%22%3A%20%22abc%22%2C%0A%20%20%20%20%20%20%20%20%22tms%22%3A%20false%0A%7D%29.addTo%28map_4dae9451f5de4ce6a802427e13757fc2%29%3B%0A%20%20%20%20%0A%20%20%20%20%20%20%20%20%20%20%20%20var%20layer_control_c947af1520f348f3a15a61318fd0f5bb%20%3D%20%7B%0A%20%20%20%20%20%20%20%20%20%20%20%20%20%20%20%20base_layers%20%3A%20%7B%20%22openstreetmap%22%20%3A%20tile_layer_1545daad6282457eb9c4f5931db0b48a%2C%20%7D%2C%0A%20%20%20%20%20%20%20%20%20%20%20%20%20%20%20%20overlays%20%3A%20%7B%20%22S2%20image%22%20%3A%20tile_layer_40cf00c990694b6fb6f37bde05214dfa%2C%22probability%20%28cloud%29%22%20%3A%20tile_layer_218103113e0b45fa922f1d6b8301a922%2C%22clouds%22%20%3A%20tile_layer_079462c397e5459e8e92d14fb3eff01e%2C%22cloud_transform%22%20%3A%20tile_layer_f814a444cc194031bb6b48c47cf57c3e%2C%22dark_pixels%22%20%3A%20tile_layer_37c24a548d5b470e95f33b7da58ca184%2C%22shadows%22%20%3A%20tile_layer_af0aee4d73ea4b7cb8a3d62f7f1cf875%2C%22cloudmask%22%20%3A%20tile_layer_4db7cbc6fe4c41b3b1669f275c8f05b1%2C%20%7D%0A%20%20%20%20%20%20%20%20%20%20%20%20%20%20%20%20%7D%3B%0A%20%20%20%20%20%20%20%20%20%20%20%20L.control.layers%28%0A%20%20%20%20%20%20%20%20%20%20%20%20%20%20%20%20layer_control_c947af1520f348f3a15a61318fd0f5bb.base_layers%2C%0A%20%20%20%20%20%20%20%20%20%20%20%20%20%20%20%20layer_control_c947af1520f348f3a15a61318fd0f5bb.overlays%2C%0A%20%20%20%20%20%20%20%20%20%20%20%20%20%20%20%20%7Bposition%3A%20%27topright%27%2C%0A%20%20%20%20%20%20%20%20%20%20%20%20%20%20%20%20%20collapsed%3A%20true%2C%0A%20%20%20%20%20%20%20%20%20%20%20%20%20%20%20%20%20autoZIndex%3A%20true%0A%20%20%20%20%20%20%20%20%20%20%20%20%20%20%20%20%7D%29.addTo%28map_4dae9451f5de4ce6a802427e13757fc2%29%3B%0A%20%20%20%20%20%20%20%20%20%20%20%20%0A%20%20%20%20%20%20%20%20%20%20%20%20%20%20%20%20tile_layer_218103113e0b45fa922f1d6b8301a922.remove%28%29%3B%0A%20%20%20%20%20%20%20%20%20%20%20%20%20%20%20%20tile_layer_079462c397e5459e8e92d14fb3eff01e.remove%28%29%3B%0A%20%20%20%20%20%20%20%20%20%20%20%20%20%20%20%20tile_layer_f814a444cc194031bb6b48c47cf57c3e.remove%28%29%3B%0A%20%20%20%20%20%20%20%20%20%20%20%20%20%20%20%20tile_layer_37c24a548d5b470e95f33b7da58ca184.remove%28%29%3B%0A%20%20%20%20%20%20%20%20%20%20%20%20%20%20%20%20tile_layer_af0aee4d73ea4b7cb8a3d62f7f1cf875.remove%28%29%3B%0A%20%20%20%20%20%20%20%20%0A%3C/script%3E onload=\"this.contentDocument.open();this.contentDocument.write(    decodeURIComponent(this.getAttribute('data-html')));this.contentDocument.close();\" allowfullscreen webkitallowfullscreen mozallowfullscreen></iframe></div></div>"
            ],
            "text/plain": [
              "<folium.folium.Map at 0x7f5ec1351810>"
            ]
          },
          "metadata": {}
        }
      ]
    },
    {
      "cell_type": "markdown",
      "source": [
        "**Evaluate mask component layers**\n",
        "\n",
        "In the above map, use the layer control panel in the upper right corner to toggle layers on and off; layer names are the same as band names, for easy code referral. Note that the layers have a minimum zoom level of 9 to avoid resource issues that can occur when visualizing layers that depend on the ee.Image.reproject function (used during cloud shadow project and mask dilation).\n",
        "\n",
        "Try changing the above CLD_PRB_THRESH, NIR_DRK_THRESH, CLD_PRJ_DIST, and BUFFER input variables and rerunning the previous cell to see how the results change. Find a good set of values for a given overpass and then try the procedure with a new overpass with different cloud conditions (this S2 SR image browser app is handy for quickly identifying images and determining image collection filter criteria). Try to identify a set of parameter values that balances cloud/cloud shadow commission and omission error for a range of cloud types."
      ],
      "metadata": {
        "id": "aEu_7RflmJoS"
      }
    },
    {
      "cell_type": "markdown",
      "source": [
        "**Apply cloud and cloud shadow mask**"
      ],
      "metadata": {
        "id": "9QdPSFDkmXMz"
      }
    },
    {
      "cell_type": "markdown",
      "source": [
        "**Define collection filter and cloud mask parameters**\n",
        "\n",
        "We'll redefine the parameters to be a little more aggressive, i.e. decrease the cloud probability threshold, increase the cloud projection distance, and increase the buffer."
      ],
      "metadata": {
        "id": "LHh9Og44mghN"
      }
    },
    {
      "cell_type": "code",
      "source": [
        "# Define collection filter and cloud mask parameters\n",
        "AOI = ee.Geometry.MultiPolygon(shapefile['features'][0][\"geometry\"]['coordinates'])\n",
        "# START_DATE = '2021-11-14'\n",
        "# END_DATE = '2021-12-23'\n",
        "START_DATE = '2021-03-01'\n",
        "END_DATE = '2021-06-01'\n",
        "# CLOUD_FILTER =30\n",
        "# CLD_PRB_THRESH = 80\n",
        "# NIR_DRK_THRESH = 1\n",
        "# CLD_PRJ_DIST = 2\n",
        "# BUFFER = 90\n",
        "CLOUD_FILTER =30\n",
        "CLD_PRB_THRESH = 50\n",
        "NIR_DRK_THRESH = 1\n",
        "CLD_PRJ_DIST = 2\n",
        "BUFFER = 100"
      ],
      "metadata": {
        "id": "bo-27qkcmui4"
      },
      "execution_count": 12,
      "outputs": []
    },
    {
      "cell_type": "markdown",
      "source": [
        "**Build a Sentinel-2 collection**\n",
        "\n",
        "Reassemble the S2-cloudless collection since the collection filter parameters have changed."
      ],
      "metadata": {
        "id": "H8YR58Gcm0L6"
      }
    },
    {
      "cell_type": "code",
      "source": [
        "s2_sr_cld_col = get_s2_sr_cld_col(AOI, START_DATE, END_DATE)"
      ],
      "metadata": {
        "id": "4WaDncnjm8-E"
      },
      "execution_count": 13,
      "outputs": []
    },
    {
      "cell_type": "markdown",
      "source": [
        "**Define cloud mask application function**\n",
        "\n",
        "Define a function to apply the cloud mask to each image in the collection."
      ],
      "metadata": {
        "id": "Bwyr3ACxnE2j"
      }
    },
    {
      "cell_type": "code",
      "source": [
        "def apply_cld_shdw_mask(img):\n",
        "    # Subset the cloudmask band and invert it so clouds/shadow are 0, else 1.\n",
        "    not_cld_shdw = img.select('cloudmask').Not()\n",
        "\n",
        "    # Subset reflectance bands and update their masks, return the result.\n",
        "    return img.select('B.*').updateMask(not_cld_shdw)"
      ],
      "metadata": {
        "id": "ziJaCmK-nHbN"
      },
      "execution_count": 14,
      "outputs": []
    },
    {
      "cell_type": "markdown",
      "source": [
        "**Process the collection**\n",
        "\n",
        "Add cloud and cloud shadow component bands to each image and then apply the mask to each image. Reduce the collection by median."
      ],
      "metadata": {
        "id": "pUTwdb65nLeP"
      }
    },
    {
      "cell_type": "code",
      "source": [
        "s2_sr_median = (s2_sr_cld_col.map(add_cld_shdw_mask)\n",
        "                             .map(apply_cld_shdw_mask)\n",
        "                             .median())"
      ],
      "metadata": {
        "id": "8366ereDnob4"
      },
      "execution_count": 15,
      "outputs": []
    },
    {
      "cell_type": "markdown",
      "source": [
        "**Display the cloud-free composite**\n",
        "\n",
        "Display the results; [`ee.Image.reproject`](https://developers.google.com/earth-engine/guides/projections#reprojecting) is forcing computations to happen at 100 and 20 m scales (i.e. it is not relying on appropriate pyramid level [scales for analysis](https://developers.google.com/earth-engine/guides/scale#scale-of-analysis)). The issues with `ee.Image.reproject` being resource-intensive in this case are mostly confined to interactive map viewing. Batch image [exports](https://developers.google.com/earth-engine/guides/exporting) and table reduction exports where the `scale` parameter is set to typical Sentinel-2 scales (10-60 m) are less affected."
      ],
      "metadata": {
        "id": "ah6MdCr6ntDz"
      }
    },
    {
      "cell_type": "code",
      "source": [
        "# Create a folium map object.\n",
        "center = AOI.centroid(10).coordinates().reverse().getInfo()\n",
        "m = folium.Map(location=center, zoom_start=12)\n",
        "\n",
        "# Add layers to the folium map.\n",
        "m.add_ee_layer(s2_sr_median,\n",
        "                {'bands': ['B4', 'B3', 'B2'], 'min': 0, 'max': 2500, 'gamma': 1.1},\n",
        "                'S2 cloud-free mosaic', True, 1, 9)\n",
        "\n",
        "# Add a layer control panel to the map.\n",
        "m.add_child(folium.LayerControl())\n",
        "\n",
        "# Display the map.\n",
        "display(m)"
      ],
      "metadata": {
        "colab": {
          "base_uri": "https://localhost:8080/",
          "height": 718
        },
        "id": "c8mUgCEIn0dH",
        "outputId": "e7206ae4-d33d-4b94-d73d-a7a5b2e72d3e"
      },
      "execution_count": 16,
      "outputs": [
        {
          "output_type": "display_data",
          "data": {
            "text/html": [
              "<div style=\"width:100%;\"><div style=\"position:relative;width:100%;height:0;padding-bottom:60%;\"><span style=\"color:#565656\">Make this Notebook Trusted to load map: File -> Trust Notebook</span><iframe src=\"about:blank\" style=\"position:absolute;width:100%;height:100%;left:0;top:0;border:none !important;\" data-html=%3C%21DOCTYPE%20html%3E%0A%3Chead%3E%20%20%20%20%0A%20%20%20%20%3Cmeta%20http-equiv%3D%22content-type%22%20content%3D%22text/html%3B%20charset%3DUTF-8%22%20/%3E%0A%20%20%20%20%3Cscript%3EL_PREFER_CANVAS%3Dfalse%3B%20L_NO_TOUCH%3Dfalse%3B%20L_DISABLE_3D%3Dfalse%3B%3C/script%3E%0A%20%20%20%20%3Cscript%20src%3D%22https%3A//cdn.jsdelivr.net/npm/leaflet%401.4.0/dist/leaflet.js%22%3E%3C/script%3E%0A%20%20%20%20%3Cscript%20src%3D%22https%3A//code.jquery.com/jquery-1.12.4.min.js%22%3E%3C/script%3E%0A%20%20%20%20%3Cscript%20src%3D%22https%3A//maxcdn.bootstrapcdn.com/bootstrap/3.2.0/js/bootstrap.min.js%22%3E%3C/script%3E%0A%20%20%20%20%3Cscript%20src%3D%22https%3A//cdnjs.cloudflare.com/ajax/libs/Leaflet.awesome-markers/2.0.2/leaflet.awesome-markers.js%22%3E%3C/script%3E%0A%20%20%20%20%3Clink%20rel%3D%22stylesheet%22%20href%3D%22https%3A//cdn.jsdelivr.net/npm/leaflet%401.4.0/dist/leaflet.css%22/%3E%0A%20%20%20%20%3Clink%20rel%3D%22stylesheet%22%20href%3D%22https%3A//maxcdn.bootstrapcdn.com/bootstrap/3.2.0/css/bootstrap.min.css%22/%3E%0A%20%20%20%20%3Clink%20rel%3D%22stylesheet%22%20href%3D%22https%3A//maxcdn.bootstrapcdn.com/bootstrap/3.2.0/css/bootstrap-theme.min.css%22/%3E%0A%20%20%20%20%3Clink%20rel%3D%22stylesheet%22%20href%3D%22https%3A//maxcdn.bootstrapcdn.com/font-awesome/4.6.3/css/font-awesome.min.css%22/%3E%0A%20%20%20%20%3Clink%20rel%3D%22stylesheet%22%20href%3D%22https%3A//cdnjs.cloudflare.com/ajax/libs/Leaflet.awesome-markers/2.0.2/leaflet.awesome-markers.css%22/%3E%0A%20%20%20%20%3Clink%20rel%3D%22stylesheet%22%20href%3D%22https%3A//rawcdn.githack.com/python-visualization/folium/master/folium/templates/leaflet.awesome.rotate.css%22/%3E%0A%20%20%20%20%3Cstyle%3Ehtml%2C%20body%20%7Bwidth%3A%20100%25%3Bheight%3A%20100%25%3Bmargin%3A%200%3Bpadding%3A%200%3B%7D%3C/style%3E%0A%20%20%20%20%3Cstyle%3E%23map%20%7Bposition%3Aabsolute%3Btop%3A0%3Bbottom%3A0%3Bright%3A0%3Bleft%3A0%3B%7D%3C/style%3E%0A%20%20%20%20%0A%20%20%20%20%3Cmeta%20name%3D%22viewport%22%20content%3D%22width%3Ddevice-width%2C%0A%20%20%20%20%20%20%20%20initial-scale%3D1.0%2C%20maximum-scale%3D1.0%2C%20user-scalable%3Dno%22%20/%3E%0A%20%20%20%20%3Cstyle%3E%23map_abdac5c0d82d4c4395d20cfd9e9dcb1d%20%7B%0A%20%20%20%20%20%20%20%20position%3A%20relative%3B%0A%20%20%20%20%20%20%20%20width%3A%20100.0%25%3B%0A%20%20%20%20%20%20%20%20height%3A%20100.0%25%3B%0A%20%20%20%20%20%20%20%20left%3A%200.0%25%3B%0A%20%20%20%20%20%20%20%20top%3A%200.0%25%3B%0A%20%20%20%20%20%20%20%20%7D%0A%20%20%20%20%3C/style%3E%0A%3C/head%3E%0A%3Cbody%3E%20%20%20%20%0A%20%20%20%20%0A%20%20%20%20%3Cdiv%20class%3D%22folium-map%22%20id%3D%22map_abdac5c0d82d4c4395d20cfd9e9dcb1d%22%20%3E%3C/div%3E%0A%3C/body%3E%0A%3Cscript%3E%20%20%20%20%0A%20%20%20%20%0A%20%20%20%20%0A%20%20%20%20%20%20%20%20var%20bounds%20%3D%20null%3B%0A%20%20%20%20%0A%0A%20%20%20%20var%20map_abdac5c0d82d4c4395d20cfd9e9dcb1d%20%3D%20L.map%28%0A%20%20%20%20%20%20%20%20%27map_abdac5c0d82d4c4395d20cfd9e9dcb1d%27%2C%20%7B%0A%20%20%20%20%20%20%20%20center%3A%20%5B5.589975326161692%2C%20-0.21928456157992826%5D%2C%0A%20%20%20%20%20%20%20%20zoom%3A%2012%2C%0A%20%20%20%20%20%20%20%20maxBounds%3A%20bounds%2C%0A%20%20%20%20%20%20%20%20layers%3A%20%5B%5D%2C%0A%20%20%20%20%20%20%20%20worldCopyJump%3A%20false%2C%0A%20%20%20%20%20%20%20%20crs%3A%20L.CRS.EPSG3857%2C%0A%20%20%20%20%20%20%20%20zoomControl%3A%20true%2C%0A%20%20%20%20%20%20%20%20%7D%29%3B%0A%0A%0A%20%20%20%20%0A%20%20%20%20var%20tile_layer_a3068e54428d490fb070a9e7b27b2789%20%3D%20L.tileLayer%28%0A%20%20%20%20%20%20%20%20%27https%3A//%7Bs%7D.tile.openstreetmap.org/%7Bz%7D/%7Bx%7D/%7By%7D.png%27%2C%0A%20%20%20%20%20%20%20%20%7B%0A%20%20%20%20%20%20%20%20%22attribution%22%3A%20null%2C%0A%20%20%20%20%20%20%20%20%22detectRetina%22%3A%20false%2C%0A%20%20%20%20%20%20%20%20%22maxNativeZoom%22%3A%2018%2C%0A%20%20%20%20%20%20%20%20%22maxZoom%22%3A%2018%2C%0A%20%20%20%20%20%20%20%20%22minZoom%22%3A%200%2C%0A%20%20%20%20%20%20%20%20%22noWrap%22%3A%20false%2C%0A%20%20%20%20%20%20%20%20%22opacity%22%3A%201%2C%0A%20%20%20%20%20%20%20%20%22subdomains%22%3A%20%22abc%22%2C%0A%20%20%20%20%20%20%20%20%22tms%22%3A%20false%0A%7D%29.addTo%28map_abdac5c0d82d4c4395d20cfd9e9dcb1d%29%3B%0A%20%20%20%20var%20tile_layer_85f0bedad9da4497a2b4036d5aded79d%20%3D%20L.tileLayer%28%0A%20%20%20%20%20%20%20%20%27https%3A//earthengine.googleapis.com/v1alpha/projects/earthengine-legacy/maps/db67aace6a68bdfabea5d595b3ebdb15-ed3d5d4702c1d75c8898359cb6c32934/tiles/%7Bz%7D/%7Bx%7D/%7By%7D%27%2C%0A%20%20%20%20%20%20%20%20%7B%0A%20%20%20%20%20%20%20%20%22attribution%22%3A%20%22Map%20Data%20%26copy%3B%20%3Ca%20href%3D%5C%22https%3A//earthengine.google.com/%5C%22%3EGoogle%20Earth%20Engine%3C/a%3E%22%2C%0A%20%20%20%20%20%20%20%20%22detectRetina%22%3A%20false%2C%0A%20%20%20%20%20%20%20%20%22maxNativeZoom%22%3A%2018%2C%0A%20%20%20%20%20%20%20%20%22maxZoom%22%3A%2018%2C%0A%20%20%20%20%20%20%20%20%22minZoom%22%3A%209%2C%0A%20%20%20%20%20%20%20%20%22noWrap%22%3A%20false%2C%0A%20%20%20%20%20%20%20%20%22opacity%22%3A%201%2C%0A%20%20%20%20%20%20%20%20%22subdomains%22%3A%20%22abc%22%2C%0A%20%20%20%20%20%20%20%20%22tms%22%3A%20false%0A%7D%29.addTo%28map_abdac5c0d82d4c4395d20cfd9e9dcb1d%29%3B%0A%20%20%20%20%0A%20%20%20%20%20%20%20%20%20%20%20%20var%20layer_control_ec4229e6cb4046ce995e443d0012eecb%20%3D%20%7B%0A%20%20%20%20%20%20%20%20%20%20%20%20%20%20%20%20base_layers%20%3A%20%7B%20%22openstreetmap%22%20%3A%20tile_layer_a3068e54428d490fb070a9e7b27b2789%2C%20%7D%2C%0A%20%20%20%20%20%20%20%20%20%20%20%20%20%20%20%20overlays%20%3A%20%7B%20%22S2%20cloud-free%20mosaic%22%20%3A%20tile_layer_85f0bedad9da4497a2b4036d5aded79d%2C%20%7D%0A%20%20%20%20%20%20%20%20%20%20%20%20%20%20%20%20%7D%3B%0A%20%20%20%20%20%20%20%20%20%20%20%20L.control.layers%28%0A%20%20%20%20%20%20%20%20%20%20%20%20%20%20%20%20layer_control_ec4229e6cb4046ce995e443d0012eecb.base_layers%2C%0A%20%20%20%20%20%20%20%20%20%20%20%20%20%20%20%20layer_control_ec4229e6cb4046ce995e443d0012eecb.overlays%2C%0A%20%20%20%20%20%20%20%20%20%20%20%20%20%20%20%20%7Bposition%3A%20%27topright%27%2C%0A%20%20%20%20%20%20%20%20%20%20%20%20%20%20%20%20%20collapsed%3A%20true%2C%0A%20%20%20%20%20%20%20%20%20%20%20%20%20%20%20%20%20autoZIndex%3A%20true%0A%20%20%20%20%20%20%20%20%20%20%20%20%20%20%20%20%7D%29.addTo%28map_abdac5c0d82d4c4395d20cfd9e9dcb1d%29%3B%0A%20%20%20%20%20%20%20%20%20%20%20%20%0A%20%20%20%20%20%20%20%20%0A%3C/script%3E onload=\"this.contentDocument.open();this.contentDocument.write(    decodeURIComponent(this.getAttribute('data-html')));this.contentDocument.close();\" allowfullscreen webkitallowfullscreen mozallowfullscreen></iframe></div></div>"
            ],
            "text/plain": [
              "<folium.folium.Map at 0x7f5ec0c02fd0>"
            ]
          },
          "metadata": {}
        }
      ]
    },
    {
      "cell_type": "markdown",
      "source": [
        "**Exporting images**"
      ],
      "metadata": {
        "id": "bwCWcptToPE1"
      }
    },
    {
      "cell_type": "code",
      "source": [
        "accra = s2_sr_median.select(['B2','B3','B4','B8'])"
      ],
      "metadata": {
        "id": "XP6ZsczZobmU"
      },
      "execution_count": 17,
      "outputs": []
    },
    {
      "cell_type": "code",
      "source": [
        "# ## clip image\n",
        "clip = accra.clipToCollection(fc)\n",
        "# # export clipped result in Tiff\n",
        "region = fc.geometry()\n",
        "scale = 10\n",
        "folder = 'OS_programming_data'\n",
        "img_name = 'Cloud_free_Accra_img1v'\n",
        "export_config = {'scale': scale, 'maxPixels':5000000000 , 'driveFolder': folder, 'region': region}\n",
        "task = ee.batch.Export.image(clip, img_name, export_config)\n",
        "task.start()"
      ],
      "metadata": {
        "id": "SU4836WZoVca"
      },
      "execution_count": 18,
      "outputs": []
    },
    {
      "cell_type": "code",
      "source": [
        "# clip image\n",
        "clip = accra.clipToCollection(fc) \n",
        "#export clipped result in Tiff\n",
        "region = fc.geometry()\n",
        "scale = 10\n",
        "#folder = 'Lagos folder'\n",
        "img_name = 'Cloud_free_ACC_img'\n",
        "export_config = {'scale': scale, 'maxPixels':500000000, 'region': region}\n",
        "task = ee.batch.Export.image(clip, img_name, export_config)\n",
        "task.start()"
      ],
      "metadata": {
        "id": "_KX2aPtdukVH"
      },
      "execution_count": 20,
      "outputs": []
    }
  ]
}