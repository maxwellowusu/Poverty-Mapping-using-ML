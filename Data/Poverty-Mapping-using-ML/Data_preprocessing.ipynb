{
 "cells": [
  {
   "cell_type": "code",
   "execution_count": 21,
   "metadata": {},
   "outputs": [],
   "source": [
    "import sys"
   ]
  },
  {
   "cell_type": "code",
   "execution_count": 22,
   "metadata": {},
   "outputs": [
    {
     "data": {
      "text/plain": [
       "False"
      ]
     },
     "execution_count": 22,
     "metadata": {},
     "output_type": "execute_result"
    }
   ],
   "source": [
    "'geopandas' in sys.modules"
   ]
  },
  {
   "cell_type": "code",
   "execution_count": 26,
   "metadata": {},
   "outputs": [
    {
     "name": "stdout",
     "output_type": "stream",
     "text": [
      "Note: you may need to restart the kernel to use updated packages.\n"
     ]
    },
    {
     "name": "stderr",
     "output_type": "stream",
     "text": [
      "'C:\\Program' is not recognized as an internal or external command,\n",
      "operable program or batch file.\n"
     ]
    }
   ],
   "source": [
    "pip install geopandas"
   ]
  },
  {
   "cell_type": "code",
   "execution_count": 24,
   "metadata": {
    "id": "7f57770f-0723-41c4-98c4-f90b4de492be"
   },
   "outputs": [
    {
     "ename": "ModuleNotFoundError",
     "evalue": "No module named 'geopandas'",
     "output_type": "error",
     "traceback": [
      "\u001b[1;31m---------------------------------------------------------------------------\u001b[0m",
      "\u001b[1;31mModuleNotFoundError\u001b[0m                       Traceback (most recent call last)",
      "\u001b[1;32m<ipython-input-24-4c585b8aa9c3>\u001b[0m in \u001b[0;36m<module>\u001b[1;34m\u001b[0m\n\u001b[0;32m      3\u001b[0m \u001b[1;32mimport\u001b[0m \u001b[0mpandas\u001b[0m \u001b[1;32mas\u001b[0m \u001b[0mpd\u001b[0m\u001b[1;33m\u001b[0m\u001b[1;33m\u001b[0m\u001b[0m\n\u001b[0;32m      4\u001b[0m \u001b[1;32mimport\u001b[0m \u001b[0mnumpy\u001b[0m \u001b[1;32mas\u001b[0m \u001b[0mnp\u001b[0m\u001b[1;33m\u001b[0m\u001b[1;33m\u001b[0m\u001b[0m\n\u001b[1;32m----> 5\u001b[1;33m \u001b[1;32mimport\u001b[0m \u001b[0mgeopandas\u001b[0m \u001b[1;32mas\u001b[0m \u001b[0mgpd\u001b[0m\u001b[1;33m\u001b[0m\u001b[1;33m\u001b[0m\u001b[0m\n\u001b[0m\u001b[0;32m      6\u001b[0m \u001b[1;33m\u001b[0m\u001b[0m\n\u001b[0;32m      7\u001b[0m \u001b[1;32mimport\u001b[0m \u001b[0mmatplotlib\u001b[0m\u001b[1;33m.\u001b[0m\u001b[0mpyplot\u001b[0m \u001b[1;32mas\u001b[0m \u001b[0mplt\u001b[0m\u001b[1;33m\u001b[0m\u001b[1;33m\u001b[0m\u001b[0m\n",
      "\u001b[1;31mModuleNotFoundError\u001b[0m: No module named 'geopandas'"
     ]
    }
   ],
   "source": [
    "import requests\n",
    "import json\n",
    "import pandas as pd\n",
    "import numpy as np\n",
    "import geopandas as gpd\n",
    "\n",
    "import matplotlib.pyplot as plt\n",
    "import seaborn as sns\n",
    "sns.set_theme(style=\"darkgrid\")"
   ]
  },
  {
   "cell_type": "code",
   "execution_count": 10,
   "metadata": {},
   "outputs": [
    {
     "ename": "SyntaxError",
     "evalue": "invalid syntax (<ipython-input-10-df2add3ff41b>, line 1)",
     "output_type": "error",
     "traceback": [
      "\u001b[1;36m  File \u001b[1;32m\"<ipython-input-10-df2add3ff41b>\"\u001b[1;36m, line \u001b[1;32m1\u001b[0m\n\u001b[1;33m    conda create -n geo_env\u001b[0m\n\u001b[1;37m               ^\u001b[0m\n\u001b[1;31mSyntaxError\u001b[0m\u001b[1;31m:\u001b[0m invalid syntax\n"
     ]
    }
   ],
   "source": [
    "conda create -n geo_env\n",
    "conda activate geo_env\n",
    "conda config --env --add channels conda-forge\n",
    "conda config --env --set channel_priority strict\n",
    "conda install python=3 geopandas"
   ]
  },
  {
   "cell_type": "code",
   "execution_count": null,
   "metadata": {
    "id": "d9ef1e35-d755-4ea0-b77a-f5c3e8d7b743"
   },
   "outputs": [],
   "source": [
    "# load AOI\n",
    "with open(r'./Data/AmaBoundary.geojson') as inf:\n",
    "    regions_dict = json.load(inf)"
   ]
  },
  {
   "cell_type": "code",
   "execution_count": null,
   "metadata": {
    "id": "855829ce-8337-48a6-8b1a-40bc68d00bc3",
    "outputId": "c8761ea9-257e-4d9c-c3f8-6dbb72b56ed6"
   },
   "outputs": [],
   "source": [
    "# download market \n",
    "\n",
    "URL = 'https://api.ohsome.org/v1/elements/geometry'\n",
    "data = {\n",
    "    \"bpolys\": json.dumps(regions_dict),\n",
    "    \"time\": \"2022-01-01\",\n",
    "    \"filter\": \"amenity=marketplace\"\n",
    "}\n",
    "response = requests.post(URL, data=data)\n",
    "display(response)\n",
    "\n",
    "# download data\n",
    "output = \"./output/market.geojson\"\n",
    "with open(output, \"w\") as f:\n",
    "    json.dump(response.json(), f)"
   ]
  },
  {
   "cell_type": "code",
   "execution_count": null,
   "metadata": {
    "id": "96f8d245-f5a8-4100-8f6b-9d02f1149001",
    "outputId": "cdefdbe4-7e44-4067-83af-76b258d12159"
   },
   "outputs": [],
   "source": [
    "df = gpd.read_file(output)\n",
    "df.head()\n",
    "df.plot()"
   ]
  },
  {
   "cell_type": "code",
   "execution_count": null,
   "metadata": {
    "id": "5dbda33b-3f84-4de1-b091-97557e81f930",
    "outputId": "28d2b4de-4b15-442c-916e-31fdae8dee19"
   },
   "outputs": [],
   "source": [
    "# download highway\n",
    "\n",
    "URL = 'https://api.ohsome.org/v1/elements/geometry'\n",
    "data = {\n",
    "    \"bpolys\": json.dumps(regions_dict),\n",
    "    \"time\": \"2022-01-01\",\n",
    "    \"filter\": \"highway=primary or highway=secondary\"\n",
    "}\n",
    "response = requests.post(URL, data=data)\n",
    "display(response)\n",
    "\n",
    "# download data\n",
    "output = \"./output/highway.geojson\"\n",
    "with open(output, \"w\") as f:\n",
    "    json.dump(response.json(), f)"
   ]
  },
  {
   "cell_type": "code",
   "execution_count": null,
   "metadata": {
    "id": "05ece9f8-a15c-450d-9f62-ab6dd1a459f7",
    "outputId": "6ff92856-d2b7-4b2a-dbfc-8731961ada21"
   },
   "outputs": [],
   "source": [
    "df = gpd.read_file(output)\n",
    "df.head()\n",
    "df.plot()"
   ]
  },
  {
   "cell_type": "code",
   "execution_count": null,
   "metadata": {
    "id": "bfc0bbae-84cb-4f70-ba22-0db80540135b",
    "outputId": "5ecd10c3-5ae3-428c-d0e0-a96821490ec1"
   },
   "outputs": [],
   "source": [
    "# download industry \n",
    "\n",
    "URL = 'https://api.ohsome.org/v1/elements/geometry'\n",
    "data = {\n",
    "    \"bpolys\": json.dumps(regions_dict),\n",
    "    \"time\": \"2022-01-01\",\n",
    "    \"filter\": \"landuse = industrial\"\n",
    "}\n",
    "response = requests.post(URL, data=data)\n",
    "display(response)\n",
    "\n",
    "# download data\n",
    "output = \"./output/industry.geojson\"\n",
    "with open(output, \"w\") as f:\n",
    "    json.dump(response.json(), f)"
   ]
  },
  {
   "cell_type": "code",
   "execution_count": null,
   "metadata": {
    "id": "30029b19-ee66-4b29-ad41-573edc3c7f11",
    "outputId": "a2b66f87-a24d-4b57-e440-b8675b811b5a"
   },
   "outputs": [],
   "source": [
    "df = gpd.read_file(output)\n",
    "df.head()\n",
    "df.plot()"
   ]
  },
  {
   "cell_type": "code",
   "execution_count": null,
   "metadata": {
    "id": "63d6fa52-472c-4ddc-92e2-11eae661c6a3"
   },
   "outputs": [],
   "source": []
  },
  {
   "cell_type": "markdown",
   "metadata": {
    "id": "33f4fb7b-d8c4-4fa8-a260-1bc6ccbc06ba"
   },
   "source": [
    "# Computing Euclidean Distance"
   ]
  },
  {
   "cell_type": "code",
   "execution_count": null,
   "metadata": {
    "id": "1dc80e3a-04cb-407e-aad1-ff8d5e8d7ff4"
   },
   "outputs": [],
   "source": [
    "import rasterio as rio \n",
    "\n",
    "acc_image = rio.open('./data/acc_img_bgrn.tif', mode=\"r\")\n",
    "  \n",
    "# load AOI\n",
    "AOI = fiona.open(r'./Data/AmaBoundary.geojson', 'r') "
   ]
  },
  {
   "cell_type": "code",
   "execution_count": null,
   "metadata": {
    "id": "d395cd6a-d6cb-4b0a-88f0-8ced73539b99",
    "outputId": "5f57aba8-374e-4f46-9570-42d5a18c7739"
   },
   "outputs": [],
   "source": [
    "import fiona\n",
    "import distancerasters as dr\n",
    "from glob import glob\n",
    "\n",
    "filelist = glob(\"./output/*.geojson\")\n",
    "print(filelist)\n",
    "for file in filelist:\n",
    "    shp = fiona.open(file, \"r\")\n",
    "\n",
    "    # resolution (in units matching projection) at which vector data will be rasterized\n",
    "    pixel_size =acc_image.res[0]\n",
    "\n",
    "    # create binary raster and affine\n",
    "    rv_array, affine = dr.rasterize(shp, \n",
    "                pixel_size= pixel_size, \n",
    "                bounds=AOI.bounds \n",
    "                )\n",
    "\n",
    "    # generate distance array and output to geotiff\n",
    "    filename = []\n",
    "    for file in filelist:\n",
    "      head, tail = os.path.split(file)\n",
    "      col_names=tail[:-8]\n",
    "      filename.append(col_names)\n",
    "\n",
    "    for output in filename:\n",
    "    my_dr = dr.DistanceRaster(rv_array,\n",
    "                              affine=affine,\n",
    "                              output_path=f\"output/{output}.tif\")"
   ]
  },
  {
   "cell_type": "code",
   "execution_count": null,
   "metadata": {},
   "outputs": [],
   "source": []
  }
 ],
 "metadata": {
  "colab": {
   "name": "Data_preprocessing.ipynb",
   "provenance": []
  },
  "kernelspec": {
   "display_name": "Python 3",
   "language": "python",
   "name": "python3"
  },
  "language_info": {
   "codemirror_mode": {
    "name": "ipython",
    "version": 3
   },
   "file_extension": ".py",
   "mimetype": "text/x-python",
   "name": "python",
   "nbconvert_exporter": "python",
   "pygments_lexer": "ipython3",
   "version": "3.7.10"
  }
 },
 "nbformat": 4,
 "nbformat_minor": 5
}
