{
 "cells": [
  {
   "cell_type": "code",
   "execution_count": 4,
   "id": "d95f0ee6",
   "metadata": {},
   "outputs": [
    {
     "name": "stdout",
     "output_type": "stream",
     "text": [
      "Collecting distancerasters\n",
      "  Using cached distancerasters-0.3.1-py3-none-any.whl (9.0 kB)\n",
      "Requirement already satisfied: rasterio in /opt/conda/lib/python3.9/site-packages (from distancerasters) (1.2.6)\n",
      "Requirement already satisfied: numpy in /opt/conda/lib/python3.9/site-packages (from distancerasters) (1.22.0)\n",
      "Collecting rasterstats\n",
      "  Using cached rasterstats-0.16.0-py3-none-any.whl (16 kB)\n",
      "Requirement already satisfied: affine in /opt/conda/lib/python3.9/site-packages (from distancerasters) (2.3.0)\n",
      "Requirement already satisfied: fiona in /opt/conda/lib/python3.9/site-packages (from distancerasters) (1.8.20)\n",
      "Requirement already satisfied: scipy in /opt/conda/lib/python3.9/site-packages (from distancerasters) (1.7.3)\n",
      "Requirement already satisfied: munch in /opt/conda/lib/python3.9/site-packages (from fiona->distancerasters) (2.5.0)\n",
      "Requirement already satisfied: click-plugins>=1.0 in /opt/conda/lib/python3.9/site-packages (from fiona->distancerasters) (1.1.1)\n",
      "Requirement already satisfied: click>=4.0 in /opt/conda/lib/python3.9/site-packages (from fiona->distancerasters) (8.0.3)\n",
      "Requirement already satisfied: cligj>=0.5 in /opt/conda/lib/python3.9/site-packages (from fiona->distancerasters) (0.7.2)\n",
      "Requirement already satisfied: setuptools in /opt/conda/lib/python3.9/site-packages (from fiona->distancerasters) (59.2.0)\n",
      "Requirement already satisfied: attrs>=17 in /opt/conda/lib/python3.9/site-packages (from fiona->distancerasters) (21.2.0)\n",
      "Requirement already satisfied: six>=1.7 in /opt/conda/lib/python3.9/site-packages (from fiona->distancerasters) (1.16.0)\n",
      "Requirement already satisfied: certifi in /opt/conda/lib/python3.9/site-packages (from fiona->distancerasters) (2021.10.8)\n",
      "Requirement already satisfied: snuggs>=1.4.1 in /opt/conda/lib/python3.9/site-packages (from rasterio->distancerasters) (1.4.7)\n",
      "Collecting simplejson\n",
      "  Using cached simplejson-3.17.6-cp39-cp39-manylinux_2_5_x86_64.manylinux1_x86_64.manylinux_2_12_x86_64.manylinux2010_x86_64.whl (136 kB)\n",
      "Requirement already satisfied: shapely in /opt/conda/lib/python3.9/site-packages (from rasterstats->distancerasters) (1.8.0)\n",
      "Requirement already satisfied: pyparsing>=2.1.6 in /opt/conda/lib/python3.9/site-packages (from snuggs>=1.4.1->rasterio->distancerasters) (3.0.6)\n",
      "Installing collected packages: simplejson, rasterstats, distancerasters\n",
      "Successfully installed distancerasters-0.3.1 rasterstats-0.16.0 simplejson-3.17.6\n"
     ]
    }
   ],
   "source": [
    "!pip install distancerasters\n",
    "import requests\n",
    "import json\n",
    "import pandas as pd\n",
    "import numpy as np\n",
    "import geopandas as gpd\n",
    "import os\n",
    "import fiona\n",
    "import distancerasters as dr\n",
    "from glob import glob\n",
    "import matplotlib.pyplot as plt\n",
    "import seaborn as sns\n",
    "sns.set_theme(style=\"darkgrid\")"
   ]
  },
  {
   "cell_type": "code",
   "execution_count": 5,
   "id": "d9ef1e35-d755-4ea0-b77a-f5c3e8d7b743",
   "metadata": {},
   "outputs": [],
   "source": [
    "# load AOI\n",
    "with open(r'./Data/AmaBoundary.geojson') as inf:\n",
    "    regions_dict = json.load(inf)"
   ]
  },
  {
   "cell_type": "markdown",
   "id": "15813520",
   "metadata": {},
   "source": [
    "# Getting Market, Industry, Highway Geojson"
   ]
  },
  {
   "cell_type": "code",
   "execution_count": 7,
   "id": "855829ce-8337-48a6-8b1a-40bc68d00bc3",
   "metadata": {},
   "outputs": [
    {
     "data": {
      "text/plain": [
       "<Response [200]>"
      ]
     },
     "metadata": {},
     "output_type": "display_data"
    }
   ],
   "source": [
    "# download market \n",
    "\n",
    "URL = 'https://api.ohsome.org/v1/elements/geometry'\n",
    "data = {\n",
    "    \"bpolys\": json.dumps(regions_dict),\n",
    "    \"time\": \"2022-01-01\",\n",
    "    \"filter\": \"amenity=marketplace\"\n",
    "}\n",
    "response = requests.post(URL, data=data)\n",
    "display(response)\n",
    "\n",
    "# download data\n",
    "output = \"./output/market.geojson\"\n",
    "with open(output, \"w\") as f:\n",
    "    json.dump(response.json(), f)"
   ]
  },
  {
   "cell_type": "code",
   "execution_count": 8,
   "id": "96f8d245-f5a8-4100-8f6b-9d02f1149001",
   "metadata": {
    "scrolled": true
   },
   "outputs": [
    {
     "data": {
      "text/html": [
       "<div>\n",
       "<style scoped>\n",
       "    .dataframe tbody tr th:only-of-type {\n",
       "        vertical-align: middle;\n",
       "    }\n",
       "\n",
       "    .dataframe tbody tr th {\n",
       "        vertical-align: top;\n",
       "    }\n",
       "\n",
       "    .dataframe thead th {\n",
       "        text-align: right;\n",
       "    }\n",
       "</style>\n",
       "<table border=\"1\" class=\"dataframe\">\n",
       "  <thead>\n",
       "    <tr style=\"text-align: right;\">\n",
       "      <th></th>\n",
       "      <th>@osmId</th>\n",
       "      <th>@snapshotTimestamp</th>\n",
       "      <th>geometry</th>\n",
       "    </tr>\n",
       "  </thead>\n",
       "  <tbody>\n",
       "    <tr>\n",
       "      <th>0</th>\n",
       "      <td>relation/10314706</td>\n",
       "      <td>2022-01-01T00:00:00+00:00</td>\n",
       "      <td>POLYGON ((-0.23639 5.56673, -0.23563 5.56627, ...</td>\n",
       "    </tr>\n",
       "    <tr>\n",
       "      <th>1</th>\n",
       "      <td>way/615474767</td>\n",
       "      <td>2022-01-01T00:00:00+00:00</td>\n",
       "      <td>POLYGON ((-0.23079 5.62843, -0.23075 5.62842, ...</td>\n",
       "    </tr>\n",
       "    <tr>\n",
       "      <th>2</th>\n",
       "      <td>way/615932400</td>\n",
       "      <td>2022-01-01T00:00:00+00:00</td>\n",
       "      <td>POLYGON ((-0.22961 5.63093, -0.22957 5.63093, ...</td>\n",
       "    </tr>\n",
       "    <tr>\n",
       "      <th>3</th>\n",
       "      <td>way/202488344</td>\n",
       "      <td>2022-01-01T00:00:00+00:00</td>\n",
       "      <td>POLYGON ((-0.20999 5.54039, -0.20916 5.54050, ...</td>\n",
       "    </tr>\n",
       "    <tr>\n",
       "      <th>4</th>\n",
       "      <td>way/666914878</td>\n",
       "      <td>2022-01-01T00:00:00+00:00</td>\n",
       "      <td>POLYGON ((-0.21051 5.54840, -0.21053 5.54814, ...</td>\n",
       "    </tr>\n",
       "    <tr>\n",
       "      <th>5</th>\n",
       "      <td>way/377954173</td>\n",
       "      <td>2022-01-01T00:00:00+00:00</td>\n",
       "      <td>POLYGON ((-0.17778 5.62604, -0.17718 5.62586, ...</td>\n",
       "    </tr>\n",
       "    <tr>\n",
       "      <th>6</th>\n",
       "      <td>way/414615655</td>\n",
       "      <td>2022-01-01T00:00:00+00:00</td>\n",
       "      <td>POLYGON ((-0.20848 5.58119, -0.20689 5.58034, ...</td>\n",
       "    </tr>\n",
       "    <tr>\n",
       "      <th>7</th>\n",
       "      <td>way/664056985</td>\n",
       "      <td>2022-01-01T00:00:00+00:00</td>\n",
       "      <td>POLYGON ((-0.21699 5.56419, -0.21745 5.56419, ...</td>\n",
       "    </tr>\n",
       "    <tr>\n",
       "      <th>8</th>\n",
       "      <td>way/261185626</td>\n",
       "      <td>2022-01-01T00:00:00+00:00</td>\n",
       "      <td>POLYGON ((-0.23399 5.53047, -0.23383 5.53074, ...</td>\n",
       "    </tr>\n",
       "    <tr>\n",
       "      <th>9</th>\n",
       "      <td>way/295106221</td>\n",
       "      <td>2022-01-01T00:00:00+00:00</td>\n",
       "      <td>POLYGON ((-0.22729 5.55636, -0.22787 5.55561, ...</td>\n",
       "    </tr>\n",
       "  </tbody>\n",
       "</table>\n",
       "</div>"
      ],
      "text/plain": [
       "              @osmId         @snapshotTimestamp  \\\n",
       "0  relation/10314706  2022-01-01T00:00:00+00:00   \n",
       "1      way/615474767  2022-01-01T00:00:00+00:00   \n",
       "2      way/615932400  2022-01-01T00:00:00+00:00   \n",
       "3      way/202488344  2022-01-01T00:00:00+00:00   \n",
       "4      way/666914878  2022-01-01T00:00:00+00:00   \n",
       "5      way/377954173  2022-01-01T00:00:00+00:00   \n",
       "6      way/414615655  2022-01-01T00:00:00+00:00   \n",
       "7      way/664056985  2022-01-01T00:00:00+00:00   \n",
       "8      way/261185626  2022-01-01T00:00:00+00:00   \n",
       "9      way/295106221  2022-01-01T00:00:00+00:00   \n",
       "\n",
       "                                            geometry  \n",
       "0  POLYGON ((-0.23639 5.56673, -0.23563 5.56627, ...  \n",
       "1  POLYGON ((-0.23079 5.62843, -0.23075 5.62842, ...  \n",
       "2  POLYGON ((-0.22961 5.63093, -0.22957 5.63093, ...  \n",
       "3  POLYGON ((-0.20999 5.54039, -0.20916 5.54050, ...  \n",
       "4  POLYGON ((-0.21051 5.54840, -0.21053 5.54814, ...  \n",
       "5  POLYGON ((-0.17778 5.62604, -0.17718 5.62586, ...  \n",
       "6  POLYGON ((-0.20848 5.58119, -0.20689 5.58034, ...  \n",
       "7  POLYGON ((-0.21699 5.56419, -0.21745 5.56419, ...  \n",
       "8  POLYGON ((-0.23399 5.53047, -0.23383 5.53074, ...  \n",
       "9  POLYGON ((-0.22729 5.55636, -0.22787 5.55561, ...  "
      ]
     },
     "execution_count": 8,
     "metadata": {},
     "output_type": "execute_result"
    }
   ],
   "source": [
    "df = gpd.read_file(output)\n",
    "df.head(10)\n"
   ]
  },
  {
   "cell_type": "code",
   "execution_count": 9,
   "id": "03fc18bd",
   "metadata": {},
   "outputs": [
    {
     "data": {
      "text/plain": [
       "<AxesSubplot:>"
      ]
     },
     "execution_count": 9,
     "metadata": {},
     "output_type": "execute_result"
    },
    {
     "data": {
      "image/png": "[encoded data removed]",
      "text/plain": [
       "<Figure size 432x288 with 1 Axes>"
      ]
     },
     "metadata": {},
     "output_type": "display_data"
    }
   ],
   "source": [
    "df.plot()"
   ]
  },
  {
   "cell_type": "code",
   "execution_count": 10,
   "id": "5dbda33b-3f84-4de1-b091-97557e81f930",
   "metadata": {},
   "outputs": [
    {
     "data": {
      "text/plain": [
       "<Response [200]>"
      ]
     },
     "metadata": {},
     "output_type": "display_data"
    }
   ],
   "source": [
    "# download highway\n",
    "\n",
    "URL = 'https://api.ohsome.org/v1/elements/geometry'\n",
    "data = {\n",
    "    \"bpolys\": json.dumps(regions_dict),\n",
    "    \"time\": \"2022-01-01\",\n",
    "    \"filter\": \"highway=primary or highway=secondary\"\n",
    "}\n",
    "response = requests.post(URL, data=data)\n",
    "display(response)\n",
    "\n",
    "# download data\n",
    "output = \"./output/highway.geojson\"\n",
    "with open(output, \"w\") as f:\n",
    "    json.dump(response.json(), f)"
   ]
  },
  {
   "cell_type": "code",
   "execution_count": 11,
   "id": "05ece9f8-a15c-450d-9f62-ab6dd1a459f7",
   "metadata": {
    "scrolled": true
   },
   "outputs": [
    {
     "data": {
      "text/html": [
       "<div>\n",
       "<style scoped>\n",
       "    .dataframe tbody tr th:only-of-type {\n",
       "        vertical-align: middle;\n",
       "    }\n",
       "\n",
       "    .dataframe tbody tr th {\n",
       "        vertical-align: top;\n",
       "    }\n",
       "\n",
       "    .dataframe thead th {\n",
       "        text-align: right;\n",
       "    }\n",
       "</style>\n",
       "<table border=\"1\" class=\"dataframe\">\n",
       "  <thead>\n",
       "    <tr style=\"text-align: right;\">\n",
       "      <th></th>\n",
       "      <th>@osmId</th>\n",
       "      <th>@snapshotTimestamp</th>\n",
       "      <th>geometry</th>\n",
       "    </tr>\n",
       "  </thead>\n",
       "  <tbody>\n",
       "    <tr>\n",
       "      <th>0</th>\n",
       "      <td>way/428712572</td>\n",
       "      <td>2022-01-01T00:00:00+00:00</td>\n",
       "      <td>LINESTRING (-0.17563 5.55323, -0.17565 5.55322)</td>\n",
       "    </tr>\n",
       "    <tr>\n",
       "      <th>1</th>\n",
       "      <td>way/11181574</td>\n",
       "      <td>2022-01-01T00:00:00+00:00</td>\n",
       "      <td>LINESTRING (-0.22207 5.53127, -0.22216 5.53071...</td>\n",
       "    </tr>\n",
       "    <tr>\n",
       "      <th>2</th>\n",
       "      <td>way/11524813</td>\n",
       "      <td>2022-01-01T00:00:00+00:00</td>\n",
       "      <td>LINESTRING (-0.18124 5.56720, -0.18132 5.56724...</td>\n",
       "    </tr>\n",
       "    <tr>\n",
       "      <th>3</th>\n",
       "      <td>way/11664722</td>\n",
       "      <td>2022-01-01T00:00:00+00:00</td>\n",
       "      <td>LINESTRING (-0.21575 5.56968, -0.21578 5.56965...</td>\n",
       "    </tr>\n",
       "    <tr>\n",
       "      <th>4</th>\n",
       "      <td>way/11665216</td>\n",
       "      <td>2022-01-01T00:00:00+00:00</td>\n",
       "      <td>LINESTRING (-0.22918 5.54893, -0.22868 5.54782...</td>\n",
       "    </tr>\n",
       "  </tbody>\n",
       "</table>\n",
       "</div>"
      ],
      "text/plain": [
       "          @osmId         @snapshotTimestamp  \\\n",
       "0  way/428712572  2022-01-01T00:00:00+00:00   \n",
       "1   way/11181574  2022-01-01T00:00:00+00:00   \n",
       "2   way/11524813  2022-01-01T00:00:00+00:00   \n",
       "3   way/11664722  2022-01-01T00:00:00+00:00   \n",
       "4   way/11665216  2022-01-01T00:00:00+00:00   \n",
       "\n",
       "                                            geometry  \n",
       "0    LINESTRING (-0.17563 5.55323, -0.17565 5.55322)  \n",
       "1  LINESTRING (-0.22207 5.53127, -0.22216 5.53071...  \n",
       "2  LINESTRING (-0.18124 5.56720, -0.18132 5.56724...  \n",
       "3  LINESTRING (-0.21575 5.56968, -0.21578 5.56965...  \n",
       "4  LINESTRING (-0.22918 5.54893, -0.22868 5.54782...  "
      ]
     },
     "execution_count": 11,
     "metadata": {},
     "output_type": "execute_result"
    }
   ],
   "source": [
    "df = gpd.read_file(output)\n",
    "df.head()"
   ]
  },
  {
   "cell_type": "code",
   "execution_count": 12,
   "id": "9429d69e",
   "metadata": {},
   "outputs": [
    {
     "data": {
      "text/plain": [
       "<AxesSubplot:>"
      ]
     },
     "execution_count": 12,
     "metadata": {},
     "output_type": "execute_result"
    },
    {
     "data": {
      "image/png": "[encoded data removed]",
      "text/plain": [
       "<Figure size 432x288 with 1 Axes>"
      ]
     },
     "metadata": {},
     "output_type": "display_data"
    }
   ],
   "source": [
    "df.plot()"
   ]
  },
  {
   "cell_type": "code",
   "execution_count": 13,
   "id": "bfc0bbae-84cb-4f70-ba22-0db80540135b",
   "metadata": {},
   "outputs": [
    {
     "data": {
      "text/plain": [
       "<Response [200]>"
      ]
     },
     "metadata": {},
     "output_type": "display_data"
    }
   ],
   "source": [
    "# download industry \n",
    "\n",
    "URL = 'https://api.ohsome.org/v1/elements/geometry'\n",
    "data = {\n",
    "    \"bpolys\": json.dumps(regions_dict),\n",
    "    \"time\": \"2022-01-01\",\n",
    "    \"filter\": \"landuse = industrial\"\n",
    "}\n",
    "response = requests.post(URL, data=data)\n",
    "display(response)\n",
    "\n",
    "# download data\n",
    "output = \"./output/industry.geojson\"\n",
    "with open(output, \"w\") as f:\n",
    "    json.dump(response.json(), f)"
   ]
  },
  {
   "cell_type": "code",
   "execution_count": 14,
   "id": "30029b19-ee66-4b29-ad41-573edc3c7f11",
   "metadata": {},
   "outputs": [
    {
     "data": {
      "text/html": [
       "<div>\n",
       "<style scoped>\n",
       "    .dataframe tbody tr th:only-of-type {\n",
       "        vertical-align: middle;\n",
       "    }\n",
       "\n",
       "    .dataframe tbody tr th {\n",
       "        vertical-align: top;\n",
       "    }\n",
       "\n",
       "    .dataframe thead th {\n",
       "        text-align: right;\n",
       "    }\n",
       "</style>\n",
       "<table border=\"1\" class=\"dataframe\">\n",
       "  <thead>\n",
       "    <tr style=\"text-align: right;\">\n",
       "      <th></th>\n",
       "      <th>@osmId</th>\n",
       "      <th>@snapshotTimestamp</th>\n",
       "      <th>geometry</th>\n",
       "    </tr>\n",
       "  </thead>\n",
       "  <tbody>\n",
       "    <tr>\n",
       "      <th>0</th>\n",
       "      <td>relation/3933987</td>\n",
       "      <td>2022-01-01T00:00:00+00:00</td>\n",
       "      <td>POLYGON ((-0.22623 5.55427, -0.22613 5.55452, ...</td>\n",
       "    </tr>\n",
       "    <tr>\n",
       "      <th>1</th>\n",
       "      <td>way/316141758</td>\n",
       "      <td>2022-01-01T00:00:00+00:00</td>\n",
       "      <td>POLYGON ((-0.21804 5.53350, -0.21638 5.53352, ...</td>\n",
       "    </tr>\n",
       "    <tr>\n",
       "      <th>2</th>\n",
       "      <td>way/222031755</td>\n",
       "      <td>2022-01-01T00:00:00+00:00</td>\n",
       "      <td>POLYGON ((-0.20035 5.54731, -0.20033 5.54741, ...</td>\n",
       "    </tr>\n",
       "    <tr>\n",
       "      <th>3</th>\n",
       "      <td>way/634431329</td>\n",
       "      <td>2022-01-01T00:00:00+00:00</td>\n",
       "      <td>POLYGON ((-0.23360 5.63156, -0.23298 5.63194, ...</td>\n",
       "    </tr>\n",
       "    <tr>\n",
       "      <th>4</th>\n",
       "      <td>way/634431330</td>\n",
       "      <td>2022-01-01T00:00:00+00:00</td>\n",
       "      <td>POLYGON ((-0.23438 5.63109, -0.23397 5.63137, ...</td>\n",
       "    </tr>\n",
       "  </tbody>\n",
       "</table>\n",
       "</div>"
      ],
      "text/plain": [
       "             @osmId         @snapshotTimestamp  \\\n",
       "0  relation/3933987  2022-01-01T00:00:00+00:00   \n",
       "1     way/316141758  2022-01-01T00:00:00+00:00   \n",
       "2     way/222031755  2022-01-01T00:00:00+00:00   \n",
       "3     way/634431329  2022-01-01T00:00:00+00:00   \n",
       "4     way/634431330  2022-01-01T00:00:00+00:00   \n",
       "\n",
       "                                            geometry  \n",
       "0  POLYGON ((-0.22623 5.55427, -0.22613 5.55452, ...  \n",
       "1  POLYGON ((-0.21804 5.53350, -0.21638 5.53352, ...  \n",
       "2  POLYGON ((-0.20035 5.54731, -0.20033 5.54741, ...  \n",
       "3  POLYGON ((-0.23360 5.63156, -0.23298 5.63194, ...  \n",
       "4  POLYGON ((-0.23438 5.63109, -0.23397 5.63137, ...  "
      ]
     },
     "execution_count": 14,
     "metadata": {},
     "output_type": "execute_result"
    }
   ],
   "source": [
    "df = gpd.read_file(output)\n",
    "df.head()"
   ]
  },
  {
   "cell_type": "code",
   "execution_count": 15,
   "id": "63d6fa52-472c-4ddc-92e2-11eae661c6a3",
   "metadata": {},
   "outputs": [
    {
     "data": {
      "text/plain": [
       "<AxesSubplot:>"
      ]
     },
     "execution_count": 15,
     "metadata": {},
     "output_type": "execute_result"
    },
    {
     "data": {
      "image/png": "[encoded data removed]",
      "text/plain": [
       "<Figure size 432x288 with 1 Axes>"
      ]
     },
     "metadata": {},
     "output_type": "display_data"
    }
   ],
   "source": [
    "df.plot()"
   ]
  },
  {
   "cell_type": "markdown",
   "id": "33f4fb7b-d8c4-4fa8-a260-1bc6ccbc06ba",
   "metadata": {},
   "source": [
    "# Computing Euclidean Distance"
   ]
  },
  {
   "cell_type": "code",
   "execution_count": 19,
   "id": "8aad47b3",
   "metadata": {},
   "outputs": [
    {
     "name": "stdout",
     "output_type": "stream",
     "text": [
      "Requirement already satisfied: fiona in /opt/conda/lib/python3.9/site-packages (1.8.20)\r\n",
      "Requirement already satisfied: cligj>=0.5 in /opt/conda/lib/python3.9/site-packages (from fiona) (0.7.2)\r\n",
      "Requirement already satisfied: click-plugins>=1.0 in /opt/conda/lib/python3.9/site-packages (from fiona) (1.1.1)\r\n",
      "Requirement already satisfied: setuptools in /opt/conda/lib/python3.9/site-packages (from fiona) (59.2.0)\r\n",
      "Requirement already satisfied: six>=1.7 in /opt/conda/lib/python3.9/site-packages (from fiona) (1.16.0)\r\n",
      "Requirement already satisfied: attrs>=17 in /opt/conda/lib/python3.9/site-packages (from fiona) (21.2.0)\r\n",
      "Requirement already satisfied: click>=4.0 in /opt/conda/lib/python3.9/site-packages (from fiona) (8.0.3)\r\n",
      "Requirement already satisfied: munch in /opt/conda/lib/python3.9/site-packages (from fiona) (2.5.0)\r\n",
      "Requirement already satisfied: certifi in /opt/conda/lib/python3.9/site-packages (from fiona) (2021.10.8)\r\n"
     ]
    }
   ],
   "source": [
    "!pip install fiona"
   ]
  },
  {
   "cell_type": "code",
   "execution_count": 17,
   "id": "1dc80e3a-04cb-407e-aad1-ff8d5e8d7ff4",
   "metadata": {},
   "outputs": [],
   "source": [
    "import rasterio as rio \n",
    "import fiona\n",
    "acc_image = rio.open('./Data/acc_img_bgrn.tif', mode=\"r\") \n",
    "# does this tiff contains all the bans?\n",
    "  \n",
    "# load AOI\n",
    "AOI = fiona.open(r'./Data/AmaBoundary.geojson', 'r') "
   ]
  },
  {
   "cell_type": "code",
   "execution_count": 18,
   "id": "933ede11",
   "metadata": {
    "scrolled": true
   },
   "outputs": [
    {
     "data": {
      "text/plain": [
       "['./output/market.geojson',\n",
       " './output/ETH_ppt_20102.geojson',\n",
       " './output/highway.geojson',\n",
       " './output/train_set_points.geojson',\n",
       " './output/industry.geojson',\n",
       " './output/TRIAL_ETH_ppt_2010.geojson',\n",
       " './output/ETH_ppt_2010.geojson',\n",
       " './output/ET_webmerc.geojson']"
      ]
     },
     "execution_count": 18,
     "metadata": {},
     "output_type": "execute_result"
    }
   ],
   "source": [
    "from glob import glob\n",
    "\n",
    "filelist = glob(\"./output/*.geojson\")\n",
    "filelist"
   ]
  },
  {
   "cell_type": "code",
   "execution_count": 19,
   "id": "bd8b14eb",
   "metadata": {},
   "outputs": [],
   "source": [
    "filelist = ['./output/market.geojson',\n",
    " './output/highway.geojson',\n",
    " './output/industry.geojson']\n"
   ]
  },
  {
   "cell_type": "code",
   "execution_count": 20,
   "id": "911548cc",
   "metadata": {},
   "outputs": [
    {
     "data": {
      "text/plain": [
       "['./output/market.geojson',\n",
       " './output/highway.geojson',\n",
       " './output/industry.geojson']"
      ]
     },
     "execution_count": 20,
     "metadata": {},
     "output_type": "execute_result"
    }
   ],
   "source": [
    "filelist"
   ]
  },
  {
   "cell_type": "code",
   "execution_count": 21,
   "id": "47be7e8d",
   "metadata": {},
   "outputs": [],
   "source": [
    "filename = ['market','highway','industry']"
   ]
  },
  {
   "cell_type": "code",
   "execution_count": 24,
   "id": "a22d088d",
   "metadata": {
    "scrolled": true
   },
   "outputs": [
    {
     "name": "stdout",
     "output_type": "stream",
     "text": [
      "Filename:  ['market']\n",
      "------------------------------\n",
      "Filename:  ['market', 'highway']\n",
      "------------------------------\n",
      "Filename:  ['market', 'highway', 'industry']\n",
      "------------------------------\n"
     ]
    }
   ],
   "source": [
    "filename = []\n",
    "    # generate distance array and output to geotifffilename = []\n",
    "for file in filelist:\n",
    "    head, tail = os.path.split(file)\n",
    "    col_names=tail[:-8]\n",
    "    filename.append(col_names)\n",
    "    print('Filename: ',filename)\n",
    "    print(30*'-')"
   ]
  },
  {
   "cell_type": "code",
   "execution_count": 25,
   "id": "068b526a",
   "metadata": {},
   "outputs": [],
   "source": [
    "filename = ['market','highway','industry']"
   ]
  },
  {
   "cell_type": "markdown",
   "id": "51cf442e",
   "metadata": {},
   "source": [
    "# Creating Market, Highway, Industry Bands"
   ]
  },
  {
   "cell_type": "code",
   "execution_count": 26,
   "id": "85391546",
   "metadata": {},
   "outputs": [
    {
     "name": "stdout",
     "output_type": "stream",
     "text": [
      "Tree build time: 0.0229 seconds\n",
      "Distance calc run time: 172.1299 seconds\n",
      "Tree build time: 0.014 seconds\n",
      "Distance calc run time: 173.115 seconds\n",
      "Tree build time: 0.0157 seconds\n",
      "Distance calc run time: 182.5785 seconds\n"
     ]
    }
   ],
   "source": [
    "! mkdir out -p \n",
    "\n",
    "pixel_size =acc_image.res[0]\n",
    "n = 0\n",
    "for file in filelist:\n",
    "    shp = fiona.open(file, \"r\")\n",
    "\n",
    "    # create binary raster and affine\n",
    "    rv_array, affine = dr.rasterize(shp, \n",
    "                                    pixel_size=pixel_size, \n",
    "                                    bounds=AOI.bounds)\n",
    "\n",
    "    # generate distance array and output to geotiff\n",
    "    my_dr = dr.DistanceRaster(rv_array, \n",
    "                              affine=affine,\n",
    "                              output_path=f\"out/{filename[n]}.tif\")\n",
    "    n += 1"
   ]
  }
 ],
 "metadata": {
  "kernelspec": {
   "display_name": "Python 3 (ipykernel)",
   "language": "python",
   "name": "python3"
  },
  "language_info": {
   "codemirror_mode": {
    "name": "ipython",
    "version": 3
   },
   "file_extension": ".py",
   "mimetype": "text/x-python",
   "name": "python",
   "nbconvert_exporter": "python",
   "pygments_lexer": "ipython3",
   "version": "3.9.7"
  }
 },
 "nbformat": 4,
 "nbformat_minor": 5
}
